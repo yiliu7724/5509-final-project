{
 "cells": [
  {
   "cell_type": "markdown",
   "id": "bdff0f87",
   "metadata": {},
   "source": [
    "# Final project deliverable 1"
   ]
  },
  {
   "cell_type": "markdown",
   "id": "4233ebac",
   "metadata": {},
   "source": [
    "Hi, for the final project i decided to go with something relatively simple but also quirky. \n",
    "\n",
    "For this final project I will be using online medicine review to predict the likely rating of a new drug based on the type of condition it treats, as well as its effectiveness and side effects. This is essentially a data mining project I guess but i will be using machine learning with it. Cool beans.\n",
    "\n",
    "The link to this dataset is as follows: \n",
    "\n",
    "https://www.kaggle.com/datasets/rabieelkharoua/patient-ratings-identifying-best-drugs/data\n",
    "\n",
    "Which is taken from:\n",
    "\n",
    "https://www.semanticscholar.org/paper/Aspect-Based-Sentiment-Analysis-of-Drug-Reviews-and-Gr%C3%A4%C3%9Fer-Kallumadi/4d7c25fe6131a79dfec9f45b70b270f400ac2b4f"
   ]
  },
  {
   "cell_type": "markdown",
   "id": "07415703",
   "metadata": {},
   "source": [
    "While there are notebooks made with this dataset. None at the time of me writing this are doing what I am doing. The dataset seems to be more suited for NLP but I will be using this dataset to do regression. "
   ]
  },
  {
   "cell_type": "markdown",
   "id": "058f7e37",
   "metadata": {},
   "source": [
    "Github repository:\n",
    "\n",
    "https://github.com/yiliu7724/5509-final-project"
   ]
  },
  {
   "cell_type": "markdown",
   "id": "2d93e1ce",
   "metadata": {},
   "source": [
    "### Project topic"
   ]
  },
  {
   "cell_type": "markdown",
   "id": "074401bf",
   "metadata": {},
   "source": [
    "So let's say we are a drug company. We wish to predict the reception to a new drug based on the type of condition the drug treats, its effectiveness in clinical trials, and the severity of its side effects in clinical trials. We decide to operationalize the idea of \"reception\" using the ratings for the drugs. we have in our hands data from a drug review website to train our model. \n",
    "\n",
    "This is a supervised learning problem that has an ordinal label. So we actually can use regression. \n",
    "\n",
    "For this project I will attempt several models, including\n",
    "\n",
    "1. Multiple linear regression (with and without interaction)\n",
    "2. Generalized additive model (regression)\n",
    "3. Ridge regression\n",
    "4. knn regression\n",
    "5. decision tree regression\n",
    "6. Gradient boosting regression\n",
    "7. support vector regression\n",
    "8. neural network (regression)"
   ]
  },
  {
   "cell_type": "markdown",
   "id": "00917d71",
   "metadata": {},
   "source": [
    "### import libraries and the datasets"
   ]
  },
  {
   "cell_type": "markdown",
   "id": "97aa20c5",
   "metadata": {},
   "source": [
    "So let's start by importing the libraries that are needed for this project. "
   ]
  },
  {
   "cell_type": "code",
   "execution_count": 1,
   "id": "a56c27d9",
   "metadata": {},
   "outputs": [],
   "source": [
    "import pandas as pd\n",
    "import numpy as np\n",
    "import sklearn as skl\n",
    "import seaborn as sb\n",
    "import statsmodels.api as sm\n",
    "import statsmodels.formula.api as smf\n",
    "import matplotlib.pylab as plt "
   ]
  },
  {
   "cell_type": "markdown",
   "id": "eba742a0",
   "metadata": {},
   "source": [
    "This dataset has 4 tables, 2 for training and 2 for testing. Each of the 2 are drawn from different websites so have different columns"
   ]
  },
  {
   "cell_type": "code",
   "execution_count": 2,
   "id": "78ca9f6b",
   "metadata": {},
   "outputs": [],
   "source": [
    "\n",
    "# table 1\n",
    "train1_raw = pd.read_csv(\"drugsComTrain_raw.csv\")\n",
    "test1_raw = pd.read_csv(\"drugsComTest_raw.csv\")\n",
    "\n",
    "# table 2\n",
    "train2_raw = pd.read_csv(\"drugLibTrain_raw.csv\")\n",
    "test2_raw = pd.read_csv(\"drugLibTest_raw.csv\")"
   ]
  },
  {
   "cell_type": "markdown",
   "id": "ce78fcf7",
   "metadata": {},
   "source": [
    "##### Fair warning, I will not be using table 1 for the final project for grading because it lacks some of the features I would like to have for analysis. I am just adding it here so I can create a personal project with it further down the line. "
   ]
  },
  {
   "cell_type": "markdown",
   "id": "ae1330ce",
   "metadata": {},
   "source": [
    "### Data understanding (table 2)"
   ]
  },
  {
   "cell_type": "code",
   "execution_count": 3,
   "id": "1437d423",
   "metadata": {},
   "outputs": [
    {
     "data": {
      "text/html": [
       "<div>\n",
       "<style scoped>\n",
       "    .dataframe tbody tr th:only-of-type {\n",
       "        vertical-align: middle;\n",
       "    }\n",
       "\n",
       "    .dataframe tbody tr th {\n",
       "        vertical-align: top;\n",
       "    }\n",
       "\n",
       "    .dataframe thead th {\n",
       "        text-align: right;\n",
       "    }\n",
       "</style>\n",
       "<table border=\"1\" class=\"dataframe\">\n",
       "  <thead>\n",
       "    <tr style=\"text-align: right;\">\n",
       "      <th></th>\n",
       "      <th>Unnamed: 0</th>\n",
       "      <th>urlDrugName</th>\n",
       "      <th>rating</th>\n",
       "      <th>effectiveness</th>\n",
       "      <th>sideEffects</th>\n",
       "      <th>condition</th>\n",
       "      <th>benefitsReview</th>\n",
       "      <th>sideEffectsReview</th>\n",
       "      <th>commentsReview</th>\n",
       "    </tr>\n",
       "  </thead>\n",
       "  <tbody>\n",
       "    <tr>\n",
       "      <th>0</th>\n",
       "      <td>2202</td>\n",
       "      <td>enalapril</td>\n",
       "      <td>4</td>\n",
       "      <td>Highly Effective</td>\n",
       "      <td>Mild Side Effects</td>\n",
       "      <td>management of congestive heart failure</td>\n",
       "      <td>slowed the progression of left ventricular dys...</td>\n",
       "      <td>cough, hypotension , proteinuria, impotence , ...</td>\n",
       "      <td>monitor blood pressure , weight and asses for ...</td>\n",
       "    </tr>\n",
       "    <tr>\n",
       "      <th>1</th>\n",
       "      <td>3117</td>\n",
       "      <td>ortho-tri-cyclen</td>\n",
       "      <td>1</td>\n",
       "      <td>Highly Effective</td>\n",
       "      <td>Severe Side Effects</td>\n",
       "      <td>birth prevention</td>\n",
       "      <td>Although this type of birth control has more c...</td>\n",
       "      <td>Heavy Cycle, Cramps, Hot Flashes, Fatigue, Lon...</td>\n",
       "      <td>I Hate This Birth Control, I Would Not Suggest...</td>\n",
       "    </tr>\n",
       "    <tr>\n",
       "      <th>2</th>\n",
       "      <td>1146</td>\n",
       "      <td>ponstel</td>\n",
       "      <td>10</td>\n",
       "      <td>Highly Effective</td>\n",
       "      <td>No Side Effects</td>\n",
       "      <td>menstrual cramps</td>\n",
       "      <td>I was used to having cramps so badly that they...</td>\n",
       "      <td>Heavier bleeding and clotting than normal.</td>\n",
       "      <td>I took 2 pills at the onset of my menstrual cr...</td>\n",
       "    </tr>\n",
       "    <tr>\n",
       "      <th>3</th>\n",
       "      <td>3947</td>\n",
       "      <td>prilosec</td>\n",
       "      <td>3</td>\n",
       "      <td>Marginally Effective</td>\n",
       "      <td>Mild Side Effects</td>\n",
       "      <td>acid reflux</td>\n",
       "      <td>The acid reflux went away for a few months aft...</td>\n",
       "      <td>Constipation, dry mouth and some mild dizzines...</td>\n",
       "      <td>I was given Prilosec prescription at a dose of...</td>\n",
       "    </tr>\n",
       "    <tr>\n",
       "      <th>4</th>\n",
       "      <td>1951</td>\n",
       "      <td>lyrica</td>\n",
       "      <td>2</td>\n",
       "      <td>Marginally Effective</td>\n",
       "      <td>Severe Side Effects</td>\n",
       "      <td>fibromyalgia</td>\n",
       "      <td>I think that the Lyrica was starting to help w...</td>\n",
       "      <td>I felt extremely drugged and dopey.  Could not...</td>\n",
       "      <td>See above</td>\n",
       "    </tr>\n",
       "  </tbody>\n",
       "</table>\n",
       "</div>"
      ],
      "text/plain": [
       "   Unnamed: 0       urlDrugName  rating         effectiveness  \\\n",
       "0        2202         enalapril       4      Highly Effective   \n",
       "1        3117  ortho-tri-cyclen       1      Highly Effective   \n",
       "2        1146           ponstel      10      Highly Effective   \n",
       "3        3947          prilosec       3  Marginally Effective   \n",
       "4        1951            lyrica       2  Marginally Effective   \n",
       "\n",
       "           sideEffects                               condition  \\\n",
       "0    Mild Side Effects  management of congestive heart failure   \n",
       "1  Severe Side Effects                        birth prevention   \n",
       "2      No Side Effects                        menstrual cramps   \n",
       "3    Mild Side Effects                             acid reflux   \n",
       "4  Severe Side Effects                            fibromyalgia   \n",
       "\n",
       "                                      benefitsReview  \\\n",
       "0  slowed the progression of left ventricular dys...   \n",
       "1  Although this type of birth control has more c...   \n",
       "2  I was used to having cramps so badly that they...   \n",
       "3  The acid reflux went away for a few months aft...   \n",
       "4  I think that the Lyrica was starting to help w...   \n",
       "\n",
       "                                   sideEffectsReview  \\\n",
       "0  cough, hypotension , proteinuria, impotence , ...   \n",
       "1  Heavy Cycle, Cramps, Hot Flashes, Fatigue, Lon...   \n",
       "2         Heavier bleeding and clotting than normal.   \n",
       "3  Constipation, dry mouth and some mild dizzines...   \n",
       "4  I felt extremely drugged and dopey.  Could not...   \n",
       "\n",
       "                                      commentsReview  \n",
       "0  monitor blood pressure , weight and asses for ...  \n",
       "1  I Hate This Birth Control, I Would Not Suggest...  \n",
       "2  I took 2 pills at the onset of my menstrual cr...  \n",
       "3  I was given Prilosec prescription at a dose of...  \n",
       "4                                          See above  "
      ]
     },
     "execution_count": 3,
     "metadata": {},
     "output_type": "execute_result"
    }
   ],
   "source": [
    "train2_raw.head()"
   ]
  },
  {
   "cell_type": "code",
   "execution_count": 4,
   "id": "d82e8a8e",
   "metadata": {},
   "outputs": [
    {
     "name": "stdout",
     "output_type": "stream",
     "text": [
      "Unnamed: 0            int64\n",
      "urlDrugName          object\n",
      "rating                int64\n",
      "effectiveness        object\n",
      "sideEffects          object\n",
      "condition            object\n",
      "benefitsReview       object\n",
      "sideEffectsReview    object\n",
      "commentsReview       object\n",
      "dtype: object\n"
     ]
    }
   ],
   "source": [
    "print(train2_raw.dtypes)"
   ]
  },
  {
   "cell_type": "code",
   "execution_count": 5,
   "id": "6e049ef3",
   "metadata": {},
   "outputs": [
    {
     "data": {
      "text/plain": [
       "(3107, 9)"
      ]
     },
     "execution_count": 5,
     "metadata": {},
     "output_type": "execute_result"
    }
   ],
   "source": [
    "train2_raw.shape"
   ]
  },
  {
   "cell_type": "code",
   "execution_count": 6,
   "id": "1222f10f",
   "metadata": {},
   "outputs": [
    {
     "name": "stdout",
     "output_type": "stream",
     "text": [
      "Unnamed: 0            int64\n",
      "urlDrugName          object\n",
      "rating                int64\n",
      "effectiveness        object\n",
      "sideEffects          object\n",
      "condition            object\n",
      "benefitsReview       object\n",
      "sideEffectsReview    object\n",
      "commentsReview       object\n",
      "dtype: object\n"
     ]
    }
   ],
   "source": [
    "print(test2_raw.dtypes)"
   ]
  },
  {
   "cell_type": "code",
   "execution_count": 7,
   "id": "9115c1a6",
   "metadata": {},
   "outputs": [
    {
     "data": {
      "text/plain": [
       "(1036, 9)"
      ]
     },
     "execution_count": 7,
     "metadata": {},
     "output_type": "execute_result"
    }
   ],
   "source": [
    "test2_raw.shape"
   ]
  },
  {
   "cell_type": "code",
   "execution_count": 8,
   "id": "bef9a297",
   "metadata": {},
   "outputs": [
    {
     "data": {
      "text/plain": [
       "4143"
      ]
     },
     "execution_count": 8,
     "metadata": {},
     "output_type": "execute_result"
    }
   ],
   "source": [
    "train2_raw.shape[0] + test2_raw.shape[0]"
   ]
  },
  {
   "cell_type": "markdown",
   "id": "f44d4a55",
   "metadata": {},
   "source": [
    "The raw data is split into training and testing sets. But for our purposes we actually want our data in a different granularity. So I will process the data first before separating it into testing and training sets. \n",
    "\n",
    "So let's merge the training and testing sets:"
   ]
  },
  {
   "cell_type": "code",
   "execution_count": 9,
   "id": "2a30938d",
   "metadata": {},
   "outputs": [],
   "source": [
    "table2_raw = train2_raw.merge(test2_raw, how = \"outer\")"
   ]
  },
  {
   "cell_type": "code",
   "execution_count": 10,
   "id": "d8f5427c",
   "metadata": {},
   "outputs": [],
   "source": [
    "table2_raw = table2_raw.rename({\"Unnamed: 0\": 'reviewID'}, axis = 1)"
   ]
  },
  {
   "cell_type": "code",
   "execution_count": 11,
   "id": "f0717a06",
   "metadata": {},
   "outputs": [
    {
     "data": {
      "text/html": [
       "<div>\n",
       "<style scoped>\n",
       "    .dataframe tbody tr th:only-of-type {\n",
       "        vertical-align: middle;\n",
       "    }\n",
       "\n",
       "    .dataframe tbody tr th {\n",
       "        vertical-align: top;\n",
       "    }\n",
       "\n",
       "    .dataframe thead th {\n",
       "        text-align: right;\n",
       "    }\n",
       "</style>\n",
       "<table border=\"1\" class=\"dataframe\">\n",
       "  <thead>\n",
       "    <tr style=\"text-align: right;\">\n",
       "      <th></th>\n",
       "      <th>reviewID</th>\n",
       "      <th>urlDrugName</th>\n",
       "      <th>rating</th>\n",
       "      <th>effectiveness</th>\n",
       "      <th>sideEffects</th>\n",
       "      <th>condition</th>\n",
       "      <th>benefitsReview</th>\n",
       "      <th>sideEffectsReview</th>\n",
       "      <th>commentsReview</th>\n",
       "    </tr>\n",
       "  </thead>\n",
       "  <tbody>\n",
       "    <tr>\n",
       "      <th>0</th>\n",
       "      <td>2202</td>\n",
       "      <td>enalapril</td>\n",
       "      <td>4</td>\n",
       "      <td>Highly Effective</td>\n",
       "      <td>Mild Side Effects</td>\n",
       "      <td>management of congestive heart failure</td>\n",
       "      <td>slowed the progression of left ventricular dys...</td>\n",
       "      <td>cough, hypotension , proteinuria, impotence , ...</td>\n",
       "      <td>monitor blood pressure , weight and asses for ...</td>\n",
       "    </tr>\n",
       "    <tr>\n",
       "      <th>1</th>\n",
       "      <td>3117</td>\n",
       "      <td>ortho-tri-cyclen</td>\n",
       "      <td>1</td>\n",
       "      <td>Highly Effective</td>\n",
       "      <td>Severe Side Effects</td>\n",
       "      <td>birth prevention</td>\n",
       "      <td>Although this type of birth control has more c...</td>\n",
       "      <td>Heavy Cycle, Cramps, Hot Flashes, Fatigue, Lon...</td>\n",
       "      <td>I Hate This Birth Control, I Would Not Suggest...</td>\n",
       "    </tr>\n",
       "    <tr>\n",
       "      <th>2</th>\n",
       "      <td>1146</td>\n",
       "      <td>ponstel</td>\n",
       "      <td>10</td>\n",
       "      <td>Highly Effective</td>\n",
       "      <td>No Side Effects</td>\n",
       "      <td>menstrual cramps</td>\n",
       "      <td>I was used to having cramps so badly that they...</td>\n",
       "      <td>Heavier bleeding and clotting than normal.</td>\n",
       "      <td>I took 2 pills at the onset of my menstrual cr...</td>\n",
       "    </tr>\n",
       "    <tr>\n",
       "      <th>3</th>\n",
       "      <td>3947</td>\n",
       "      <td>prilosec</td>\n",
       "      <td>3</td>\n",
       "      <td>Marginally Effective</td>\n",
       "      <td>Mild Side Effects</td>\n",
       "      <td>acid reflux</td>\n",
       "      <td>The acid reflux went away for a few months aft...</td>\n",
       "      <td>Constipation, dry mouth and some mild dizzines...</td>\n",
       "      <td>I was given Prilosec prescription at a dose of...</td>\n",
       "    </tr>\n",
       "    <tr>\n",
       "      <th>4</th>\n",
       "      <td>1951</td>\n",
       "      <td>lyrica</td>\n",
       "      <td>2</td>\n",
       "      <td>Marginally Effective</td>\n",
       "      <td>Severe Side Effects</td>\n",
       "      <td>fibromyalgia</td>\n",
       "      <td>I think that the Lyrica was starting to help w...</td>\n",
       "      <td>I felt extremely drugged and dopey.  Could not...</td>\n",
       "      <td>See above</td>\n",
       "    </tr>\n",
       "  </tbody>\n",
       "</table>\n",
       "</div>"
      ],
      "text/plain": [
       "   reviewID       urlDrugName  rating         effectiveness  \\\n",
       "0      2202         enalapril       4      Highly Effective   \n",
       "1      3117  ortho-tri-cyclen       1      Highly Effective   \n",
       "2      1146           ponstel      10      Highly Effective   \n",
       "3      3947          prilosec       3  Marginally Effective   \n",
       "4      1951            lyrica       2  Marginally Effective   \n",
       "\n",
       "           sideEffects                               condition  \\\n",
       "0    Mild Side Effects  management of congestive heart failure   \n",
       "1  Severe Side Effects                        birth prevention   \n",
       "2      No Side Effects                        menstrual cramps   \n",
       "3    Mild Side Effects                             acid reflux   \n",
       "4  Severe Side Effects                            fibromyalgia   \n",
       "\n",
       "                                      benefitsReview  \\\n",
       "0  slowed the progression of left ventricular dys...   \n",
       "1  Although this type of birth control has more c...   \n",
       "2  I was used to having cramps so badly that they...   \n",
       "3  The acid reflux went away for a few months aft...   \n",
       "4  I think that the Lyrica was starting to help w...   \n",
       "\n",
       "                                   sideEffectsReview  \\\n",
       "0  cough, hypotension , proteinuria, impotence , ...   \n",
       "1  Heavy Cycle, Cramps, Hot Flashes, Fatigue, Lon...   \n",
       "2         Heavier bleeding and clotting than normal.   \n",
       "3  Constipation, dry mouth and some mild dizzines...   \n",
       "4  I felt extremely drugged and dopey.  Could not...   \n",
       "\n",
       "                                      commentsReview  \n",
       "0  monitor blood pressure , weight and asses for ...  \n",
       "1  I Hate This Birth Control, I Would Not Suggest...  \n",
       "2  I took 2 pills at the onset of my menstrual cr...  \n",
       "3  I was given Prilosec prescription at a dose of...  \n",
       "4                                          See above  "
      ]
     },
     "execution_count": 11,
     "metadata": {},
     "output_type": "execute_result"
    }
   ],
   "source": [
    "table2_raw.head()"
   ]
  },
  {
   "cell_type": "code",
   "execution_count": 12,
   "id": "27b61c32",
   "metadata": {},
   "outputs": [
    {
     "data": {
      "text/plain": [
       "(4143, 9)"
      ]
     },
     "execution_count": 12,
     "metadata": {},
     "output_type": "execute_result"
    }
   ],
   "source": [
    "table2_raw.shape"
   ]
  },
  {
   "cell_type": "markdown",
   "id": "e8278df5",
   "metadata": {},
   "source": [
    "For this dataset we have 4143 total reviews, with 9 features. "
   ]
  },
  {
   "cell_type": "markdown",
   "id": "1f36272a",
   "metadata": {},
   "source": [
    "### Data cleaning"
   ]
  },
  {
   "cell_type": "markdown",
   "id": "626852c0",
   "metadata": {},
   "source": [
    "I don't have any background in NLP just yet at the time I am creating this project so I would not be extracting features from the reviews themselves. So the text reviews I will drop as a feature. \n",
    "\n",
    "I will also need to change some of the features so that they are not object data types anymore. \n",
    "\n",
    "Also for the final data I will feed to my model I will need to aggregate the reviews that talk about the same drug. But that is for later. "
   ]
  },
  {
   "cell_type": "markdown",
   "id": "33b6f01a",
   "metadata": {},
   "source": [
    "#### Dropping irrelavant columns"
   ]
  },
  {
   "cell_type": "markdown",
   "id": "4f7bf7be",
   "metadata": {},
   "source": [
    "So i will drop the reviewID, benefitsReview, sideEffectsReview, commentsReview columns, becaue they are not relevant to our analysis"
   ]
  },
  {
   "cell_type": "code",
   "execution_count": 13,
   "id": "e680f4c0",
   "metadata": {},
   "outputs": [],
   "source": [
    "table2_dropped_column = table2_raw.drop(labels = ['reviewID', 'benefitsReview', 'sideEffectsReview', 'commentsReview'], \n",
    "                                        axis = 1)"
   ]
  },
  {
   "cell_type": "code",
   "execution_count": 14,
   "id": "43c251cf",
   "metadata": {},
   "outputs": [
    {
     "data": {
      "text/html": [
       "<div>\n",
       "<style scoped>\n",
       "    .dataframe tbody tr th:only-of-type {\n",
       "        vertical-align: middle;\n",
       "    }\n",
       "\n",
       "    .dataframe tbody tr th {\n",
       "        vertical-align: top;\n",
       "    }\n",
       "\n",
       "    .dataframe thead th {\n",
       "        text-align: right;\n",
       "    }\n",
       "</style>\n",
       "<table border=\"1\" class=\"dataframe\">\n",
       "  <thead>\n",
       "    <tr style=\"text-align: right;\">\n",
       "      <th></th>\n",
       "      <th>urlDrugName</th>\n",
       "      <th>rating</th>\n",
       "      <th>effectiveness</th>\n",
       "      <th>sideEffects</th>\n",
       "      <th>condition</th>\n",
       "    </tr>\n",
       "  </thead>\n",
       "  <tbody>\n",
       "    <tr>\n",
       "      <th>0</th>\n",
       "      <td>enalapril</td>\n",
       "      <td>4</td>\n",
       "      <td>Highly Effective</td>\n",
       "      <td>Mild Side Effects</td>\n",
       "      <td>management of congestive heart failure</td>\n",
       "    </tr>\n",
       "    <tr>\n",
       "      <th>1</th>\n",
       "      <td>ortho-tri-cyclen</td>\n",
       "      <td>1</td>\n",
       "      <td>Highly Effective</td>\n",
       "      <td>Severe Side Effects</td>\n",
       "      <td>birth prevention</td>\n",
       "    </tr>\n",
       "    <tr>\n",
       "      <th>2</th>\n",
       "      <td>ponstel</td>\n",
       "      <td>10</td>\n",
       "      <td>Highly Effective</td>\n",
       "      <td>No Side Effects</td>\n",
       "      <td>menstrual cramps</td>\n",
       "    </tr>\n",
       "    <tr>\n",
       "      <th>3</th>\n",
       "      <td>prilosec</td>\n",
       "      <td>3</td>\n",
       "      <td>Marginally Effective</td>\n",
       "      <td>Mild Side Effects</td>\n",
       "      <td>acid reflux</td>\n",
       "    </tr>\n",
       "    <tr>\n",
       "      <th>4</th>\n",
       "      <td>lyrica</td>\n",
       "      <td>2</td>\n",
       "      <td>Marginally Effective</td>\n",
       "      <td>Severe Side Effects</td>\n",
       "      <td>fibromyalgia</td>\n",
       "    </tr>\n",
       "  </tbody>\n",
       "</table>\n",
       "</div>"
      ],
      "text/plain": [
       "        urlDrugName  rating         effectiveness          sideEffects  \\\n",
       "0         enalapril       4      Highly Effective    Mild Side Effects   \n",
       "1  ortho-tri-cyclen       1      Highly Effective  Severe Side Effects   \n",
       "2           ponstel      10      Highly Effective      No Side Effects   \n",
       "3          prilosec       3  Marginally Effective    Mild Side Effects   \n",
       "4            lyrica       2  Marginally Effective  Severe Side Effects   \n",
       "\n",
       "                                condition  \n",
       "0  management of congestive heart failure  \n",
       "1                        birth prevention  \n",
       "2                        menstrual cramps  \n",
       "3                             acid reflux  \n",
       "4                            fibromyalgia  "
      ]
     },
     "execution_count": 14,
     "metadata": {},
     "output_type": "execute_result"
    }
   ],
   "source": [
    "table2_dropped_column.head()"
   ]
  },
  {
   "cell_type": "markdown",
   "id": "bd8b21a6",
   "metadata": {},
   "source": [
    "#### Finding and imputing missing values"
   ]
  },
  {
   "cell_type": "markdown",
   "id": "10c7a588",
   "metadata": {},
   "source": [
    "Now lets see what values exists for the effectiveness and sideEffects columns"
   ]
  },
  {
   "cell_type": "code",
   "execution_count": 15,
   "id": "d6003c1a",
   "metadata": {},
   "outputs": [
    {
     "data": {
      "text/plain": [
       "array(['Highly Effective', 'Marginally Effective', 'Ineffective',\n",
       "       'Considerably Effective', 'Moderately Effective'], dtype=object)"
      ]
     },
     "execution_count": 15,
     "metadata": {},
     "output_type": "execute_result"
    }
   ],
   "source": [
    "table2_dropped_column.effectiveness.unique()"
   ]
  },
  {
   "cell_type": "markdown",
   "id": "414d192c",
   "metadata": {},
   "source": [
    "Excellent, there are no invalid values for this column, lets check the side effects column"
   ]
  },
  {
   "cell_type": "code",
   "execution_count": 16,
   "id": "47fe4683",
   "metadata": {},
   "outputs": [
    {
     "data": {
      "text/plain": [
       "array(['Mild Side Effects', 'Severe Side Effects', 'No Side Effects',\n",
       "       'Extremely Severe Side Effects', 'Moderate Side Effects'],\n",
       "      dtype=object)"
      ]
     },
     "execution_count": 16,
     "metadata": {},
     "output_type": "execute_result"
    }
   ],
   "source": [
    "table2_dropped_column.sideEffects.unique()"
   ]
  },
  {
   "cell_type": "markdown",
   "id": "f5953727",
   "metadata": {},
   "source": [
    "Good, once again, all these values make sense. "
   ]
  },
  {
   "cell_type": "markdown",
   "id": "10c034e5",
   "metadata": {},
   "source": [
    "For the drug name and condition columns we have a lot of unique values, so i will check for invalid inputs in them differently. "
   ]
  },
  {
   "cell_type": "code",
   "execution_count": 17,
   "id": "825b16d7",
   "metadata": {},
   "outputs": [
    {
     "name": "stdout",
     "output_type": "stream",
     "text": [
      "541\n",
      "541\n"
     ]
    }
   ],
   "source": [
    "print(len(table2_dropped_column.urlDrugName.unique()))\n",
    "print(table2_dropped_column.urlDrugName.nunique(dropna=True))"
   ]
  },
  {
   "cell_type": "markdown",
   "id": "de70d963",
   "metadata": {},
   "source": [
    "Excellent, there are no na values in the drug name.\n",
    "\n",
    "now let's look at the conditon:"
   ]
  },
  {
   "cell_type": "code",
   "execution_count": 18,
   "id": "0688348a",
   "metadata": {},
   "outputs": [
    {
     "name": "stdout",
     "output_type": "stream",
     "text": [
      "1808\n",
      "1807\n"
     ]
    }
   ],
   "source": [
    "print(len(table2_dropped_column.condition.unique()))\n",
    "print(table2_dropped_column.condition.nunique(dropna=True))"
   ]
  },
  {
   "cell_type": "markdown",
   "id": "fa7f954f",
   "metadata": {},
   "source": [
    "Okay so we do have null values here. Lets see how many:"
   ]
  },
  {
   "cell_type": "code",
   "execution_count": 19,
   "id": "1f6da1ee",
   "metadata": {},
   "outputs": [
    {
     "data": {
      "text/plain": [
       "1"
      ]
     },
     "execution_count": 19,
     "metadata": {},
     "output_type": "execute_result"
    }
   ],
   "source": [
    "sum(table2_dropped_column.condition.isna())"
   ]
  },
  {
   "cell_type": "code",
   "execution_count": 20,
   "id": "6ac5d340",
   "metadata": {},
   "outputs": [
    {
     "data": {
      "text/html": [
       "<div>\n",
       "<style scoped>\n",
       "    .dataframe tbody tr th:only-of-type {\n",
       "        vertical-align: middle;\n",
       "    }\n",
       "\n",
       "    .dataframe tbody tr th {\n",
       "        vertical-align: top;\n",
       "    }\n",
       "\n",
       "    .dataframe thead th {\n",
       "        text-align: right;\n",
       "    }\n",
       "</style>\n",
       "<table border=\"1\" class=\"dataframe\">\n",
       "  <thead>\n",
       "    <tr style=\"text-align: right;\">\n",
       "      <th></th>\n",
       "      <th>urlDrugName</th>\n",
       "      <th>rating</th>\n",
       "      <th>effectiveness</th>\n",
       "      <th>sideEffects</th>\n",
       "      <th>condition</th>\n",
       "    </tr>\n",
       "  </thead>\n",
       "  <tbody>\n",
       "    <tr>\n",
       "      <th>2488</th>\n",
       "      <td>keflex</td>\n",
       "      <td>2</td>\n",
       "      <td>Ineffective</td>\n",
       "      <td>No Side Effects</td>\n",
       "      <td>NaN</td>\n",
       "    </tr>\n",
       "  </tbody>\n",
       "</table>\n",
       "</div>"
      ],
      "text/plain": [
       "     urlDrugName  rating effectiveness      sideEffects condition\n",
       "2488      keflex       2   Ineffective  No Side Effects       NaN"
      ]
     },
     "execution_count": 20,
     "metadata": {},
     "output_type": "execute_result"
    }
   ],
   "source": [
    "table2_dropped_column[table2_dropped_column['condition'].isnull()]"
   ]
  },
  {
   "cell_type": "markdown",
   "id": "de1b5982",
   "metadata": {},
   "source": [
    "So we do have 1, with such a low number of na we can take a lot of care when it comes to imputing this value. \n",
    "\n",
    "Good thing is google exists, so I can look this up and maually impute the value. \n",
    "\n",
    "Here is what I have found: \n",
    "\n",
    "https://www.drugs.com/keflex.html\n",
    "\n",
    "Looks like this is an antibiotic. let's see what this review says about it to see if we can find a clue as to what it was used to treat. "
   ]
  },
  {
   "cell_type": "code",
   "execution_count": 21,
   "id": "49d0b6db",
   "metadata": {},
   "outputs": [
    {
     "data": {
      "text/plain": [
       "reviewID                                                          3784\n",
       "urlDrugName                                                     keflex\n",
       "rating                                                               2\n",
       "effectiveness                                              Ineffective\n",
       "sideEffects                                            No Side Effects\n",
       "condition                                                          NaN\n",
       "benefitsReview       None.  I had a bacterial infection accompanyin...\n",
       "sideEffectsReview    The only good point I suppose is that there wa...\n",
       "commentsReview       Absoutely innefective.  I easily could have be...\n",
       "Name: 2488, dtype: object"
      ]
     },
     "execution_count": 21,
     "metadata": {},
     "output_type": "execute_result"
    }
   ],
   "source": [
    "table2_raw.iloc[2488]"
   ]
  },
  {
   "cell_type": "code",
   "execution_count": 22,
   "id": "f1f28684",
   "metadata": {},
   "outputs": [
    {
     "data": {
      "text/plain": [
       "'None.  I had a bacterial infection accompanying my flu and there wasnt a single noticeable benefit.'"
      ]
     },
     "execution_count": 22,
     "metadata": {},
     "output_type": "execute_result"
    }
   ],
   "source": [
    "#table2_raw.iloc[2488][\"benefitsReview\"]\n",
    "table2_raw.at[2488,'benefitsReview']"
   ]
  },
  {
   "cell_type": "markdown",
   "id": "7e59569e",
   "metadata": {},
   "source": [
    "looks like we can say the condition is respiratory infection, so lets impute it as such:"
   ]
  },
  {
   "cell_type": "code",
   "execution_count": 23,
   "id": "2457c74e",
   "metadata": {},
   "outputs": [],
   "source": [
    "table2_dropped_column.at[2488,'condition'] = 'respiratory infection'"
   ]
  },
  {
   "cell_type": "code",
   "execution_count": 24,
   "id": "b2790144",
   "metadata": {},
   "outputs": [
    {
     "data": {
      "text/plain": [
       "urlDrugName                     keflex\n",
       "rating                               2\n",
       "effectiveness              Ineffective\n",
       "sideEffects            No Side Effects\n",
       "condition        respiratory infection\n",
       "Name: 2488, dtype: object"
      ]
     },
     "execution_count": 24,
     "metadata": {},
     "output_type": "execute_result"
    }
   ],
   "source": [
    "table2_dropped_column.iloc[2488]"
   ]
  },
  {
   "cell_type": "code",
   "execution_count": 25,
   "id": "c3b82d00",
   "metadata": {},
   "outputs": [
    {
     "name": "stdout",
     "output_type": "stream",
     "text": [
      "1807\n",
      "1807\n"
     ]
    }
   ],
   "source": [
    "print(len(table2_dropped_column.condition.unique()))\n",
    "print(table2_dropped_column.condition.nunique(dropna=True))"
   ]
  },
  {
   "cell_type": "markdown",
   "id": "089073b9",
   "metadata": {},
   "source": [
    "Okay, we took care of missing values. "
   ]
  },
  {
   "cell_type": "code",
   "execution_count": 26,
   "id": "3798faa7",
   "metadata": {},
   "outputs": [],
   "source": [
    "table2_imputed = table2_dropped_column.copy()"
   ]
  },
  {
   "cell_type": "markdown",
   "id": "cf727bf6",
   "metadata": {},
   "source": [
    "###### I will need to conduct some feature engineering at this stage here to make subsequent transformations possible"
   ]
  },
  {
   "cell_type": "markdown",
   "id": "00f0adfe",
   "metadata": {},
   "source": [
    "#### Feature engineering"
   ]
  },
  {
   "cell_type": "markdown",
   "id": "549f6193",
   "metadata": {},
   "source": [
    "So lets start by taking a look at the values for the effectiveness of the drug"
   ]
  },
  {
   "cell_type": "code",
   "execution_count": 27,
   "id": "c4ad6576",
   "metadata": {},
   "outputs": [
    {
     "data": {
      "text/plain": [
       "array(['Highly Effective', 'Marginally Effective', 'Ineffective',\n",
       "       'Considerably Effective', 'Moderately Effective'], dtype=object)"
      ]
     },
     "execution_count": 27,
     "metadata": {},
     "output_type": "execute_result"
    }
   ],
   "source": [
    "table2_imputed.effectiveness.unique()"
   ]
  },
  {
   "cell_type": "markdown",
   "id": "b166ad56",
   "metadata": {},
   "source": [
    "There are 5 levels to this effectiveness. Let's create a new column that changes these values into an effectiveness score, between 1 to 5:\n",
    "\n",
    "For this task i am using a method suggested in this article: \n",
    "\n",
    "https://www.statology.org/create-column-based-on-condition-pandas/"
   ]
  },
  {
   "cell_type": "code",
   "execution_count": 28,
   "id": "f1a46e3c",
   "metadata": {},
   "outputs": [],
   "source": [
    "def rule(row):\n",
    "    if row['effectiveness'] == 'Highly Effective':\n",
    "        result = 5\n",
    "    elif row['effectiveness'] == 'Considerably Effective':\n",
    "        result = 4\n",
    "    elif row['effectiveness'] == 'Moderately Effective':\n",
    "        result = 3\n",
    "    elif row['effectiveness'] == 'Marginally Effective':\n",
    "        result = 2\n",
    "    else:\n",
    "        result = 1\n",
    "    return result"
   ]
  },
  {
   "cell_type": "code",
   "execution_count": 29,
   "id": "d9fe718f",
   "metadata": {},
   "outputs": [],
   "source": [
    "table2_imputed['effectivenessScore'] = table2_imputed.apply(rule, axis=1)"
   ]
  },
  {
   "cell_type": "code",
   "execution_count": 30,
   "id": "1b96b4ee",
   "metadata": {},
   "outputs": [
    {
     "data": {
      "text/html": [
       "<div>\n",
       "<style scoped>\n",
       "    .dataframe tbody tr th:only-of-type {\n",
       "        vertical-align: middle;\n",
       "    }\n",
       "\n",
       "    .dataframe tbody tr th {\n",
       "        vertical-align: top;\n",
       "    }\n",
       "\n",
       "    .dataframe thead th {\n",
       "        text-align: right;\n",
       "    }\n",
       "</style>\n",
       "<table border=\"1\" class=\"dataframe\">\n",
       "  <thead>\n",
       "    <tr style=\"text-align: right;\">\n",
       "      <th></th>\n",
       "      <th>urlDrugName</th>\n",
       "      <th>rating</th>\n",
       "      <th>effectiveness</th>\n",
       "      <th>sideEffects</th>\n",
       "      <th>condition</th>\n",
       "      <th>effectivenessScore</th>\n",
       "    </tr>\n",
       "  </thead>\n",
       "  <tbody>\n",
       "    <tr>\n",
       "      <th>0</th>\n",
       "      <td>enalapril</td>\n",
       "      <td>4</td>\n",
       "      <td>Highly Effective</td>\n",
       "      <td>Mild Side Effects</td>\n",
       "      <td>management of congestive heart failure</td>\n",
       "      <td>5</td>\n",
       "    </tr>\n",
       "    <tr>\n",
       "      <th>1</th>\n",
       "      <td>ortho-tri-cyclen</td>\n",
       "      <td>1</td>\n",
       "      <td>Highly Effective</td>\n",
       "      <td>Severe Side Effects</td>\n",
       "      <td>birth prevention</td>\n",
       "      <td>5</td>\n",
       "    </tr>\n",
       "    <tr>\n",
       "      <th>2</th>\n",
       "      <td>ponstel</td>\n",
       "      <td>10</td>\n",
       "      <td>Highly Effective</td>\n",
       "      <td>No Side Effects</td>\n",
       "      <td>menstrual cramps</td>\n",
       "      <td>5</td>\n",
       "    </tr>\n",
       "    <tr>\n",
       "      <th>3</th>\n",
       "      <td>prilosec</td>\n",
       "      <td>3</td>\n",
       "      <td>Marginally Effective</td>\n",
       "      <td>Mild Side Effects</td>\n",
       "      <td>acid reflux</td>\n",
       "      <td>2</td>\n",
       "    </tr>\n",
       "    <tr>\n",
       "      <th>4</th>\n",
       "      <td>lyrica</td>\n",
       "      <td>2</td>\n",
       "      <td>Marginally Effective</td>\n",
       "      <td>Severe Side Effects</td>\n",
       "      <td>fibromyalgia</td>\n",
       "      <td>2</td>\n",
       "    </tr>\n",
       "  </tbody>\n",
       "</table>\n",
       "</div>"
      ],
      "text/plain": [
       "        urlDrugName  rating         effectiveness          sideEffects  \\\n",
       "0         enalapril       4      Highly Effective    Mild Side Effects   \n",
       "1  ortho-tri-cyclen       1      Highly Effective  Severe Side Effects   \n",
       "2           ponstel      10      Highly Effective      No Side Effects   \n",
       "3          prilosec       3  Marginally Effective    Mild Side Effects   \n",
       "4            lyrica       2  Marginally Effective  Severe Side Effects   \n",
       "\n",
       "                                condition  effectivenessScore  \n",
       "0  management of congestive heart failure                   5  \n",
       "1                        birth prevention                   5  \n",
       "2                        menstrual cramps                   5  \n",
       "3                             acid reflux                   2  \n",
       "4                            fibromyalgia                   2  "
      ]
     },
     "execution_count": 30,
     "metadata": {},
     "output_type": "execute_result"
    }
   ],
   "source": [
    "table2_imputed.head()"
   ]
  },
  {
   "cell_type": "markdown",
   "id": "deab21ca",
   "metadata": {},
   "source": [
    "Nice! now lets do the same for side effects:"
   ]
  },
  {
   "cell_type": "code",
   "execution_count": 31,
   "id": "c86b0c07",
   "metadata": {},
   "outputs": [
    {
     "data": {
      "text/plain": [
       "array(['Mild Side Effects', 'Severe Side Effects', 'No Side Effects',\n",
       "       'Extremely Severe Side Effects', 'Moderate Side Effects'],\n",
       "      dtype=object)"
      ]
     },
     "execution_count": 31,
     "metadata": {},
     "output_type": "execute_result"
    }
   ],
   "source": [
    "table2_imputed.sideEffects.unique()"
   ]
  },
  {
   "cell_type": "markdown",
   "id": "afb7b096",
   "metadata": {},
   "source": [
    "Once again, 5 levels, let's do the same again for this column:"
   ]
  },
  {
   "cell_type": "code",
   "execution_count": 32,
   "id": "2e9d1f07",
   "metadata": {},
   "outputs": [],
   "source": [
    "def rule2(row):\n",
    "    if row['sideEffects'] == 'Extremely Severe Side Effects':\n",
    "        result = 5\n",
    "    elif row['sideEffects'] == 'Severe Side Effects':\n",
    "        result = 4\n",
    "    elif row['sideEffects'] == 'Moderate Side Effects':\n",
    "        result = 3\n",
    "    elif row['sideEffects'] == 'Mild Side Effects':\n",
    "        result = 2\n",
    "    else:\n",
    "        result = 1\n",
    "    return result"
   ]
  },
  {
   "cell_type": "code",
   "execution_count": 33,
   "id": "3414e8c2",
   "metadata": {},
   "outputs": [],
   "source": [
    "table2_imputed['sideEffectsScore'] = table2_imputed.apply(rule2, axis=1)"
   ]
  },
  {
   "cell_type": "code",
   "execution_count": 34,
   "id": "0f460624",
   "metadata": {},
   "outputs": [
    {
     "data": {
      "text/html": [
       "<div>\n",
       "<style scoped>\n",
       "    .dataframe tbody tr th:only-of-type {\n",
       "        vertical-align: middle;\n",
       "    }\n",
       "\n",
       "    .dataframe tbody tr th {\n",
       "        vertical-align: top;\n",
       "    }\n",
       "\n",
       "    .dataframe thead th {\n",
       "        text-align: right;\n",
       "    }\n",
       "</style>\n",
       "<table border=\"1\" class=\"dataframe\">\n",
       "  <thead>\n",
       "    <tr style=\"text-align: right;\">\n",
       "      <th></th>\n",
       "      <th>urlDrugName</th>\n",
       "      <th>rating</th>\n",
       "      <th>effectiveness</th>\n",
       "      <th>sideEffects</th>\n",
       "      <th>condition</th>\n",
       "      <th>effectivenessScore</th>\n",
       "      <th>sideEffectsScore</th>\n",
       "    </tr>\n",
       "  </thead>\n",
       "  <tbody>\n",
       "    <tr>\n",
       "      <th>0</th>\n",
       "      <td>enalapril</td>\n",
       "      <td>4</td>\n",
       "      <td>Highly Effective</td>\n",
       "      <td>Mild Side Effects</td>\n",
       "      <td>management of congestive heart failure</td>\n",
       "      <td>5</td>\n",
       "      <td>2</td>\n",
       "    </tr>\n",
       "    <tr>\n",
       "      <th>1</th>\n",
       "      <td>ortho-tri-cyclen</td>\n",
       "      <td>1</td>\n",
       "      <td>Highly Effective</td>\n",
       "      <td>Severe Side Effects</td>\n",
       "      <td>birth prevention</td>\n",
       "      <td>5</td>\n",
       "      <td>4</td>\n",
       "    </tr>\n",
       "    <tr>\n",
       "      <th>2</th>\n",
       "      <td>ponstel</td>\n",
       "      <td>10</td>\n",
       "      <td>Highly Effective</td>\n",
       "      <td>No Side Effects</td>\n",
       "      <td>menstrual cramps</td>\n",
       "      <td>5</td>\n",
       "      <td>1</td>\n",
       "    </tr>\n",
       "    <tr>\n",
       "      <th>3</th>\n",
       "      <td>prilosec</td>\n",
       "      <td>3</td>\n",
       "      <td>Marginally Effective</td>\n",
       "      <td>Mild Side Effects</td>\n",
       "      <td>acid reflux</td>\n",
       "      <td>2</td>\n",
       "      <td>2</td>\n",
       "    </tr>\n",
       "    <tr>\n",
       "      <th>4</th>\n",
       "      <td>lyrica</td>\n",
       "      <td>2</td>\n",
       "      <td>Marginally Effective</td>\n",
       "      <td>Severe Side Effects</td>\n",
       "      <td>fibromyalgia</td>\n",
       "      <td>2</td>\n",
       "      <td>4</td>\n",
       "    </tr>\n",
       "  </tbody>\n",
       "</table>\n",
       "</div>"
      ],
      "text/plain": [
       "        urlDrugName  rating         effectiveness          sideEffects  \\\n",
       "0         enalapril       4      Highly Effective    Mild Side Effects   \n",
       "1  ortho-tri-cyclen       1      Highly Effective  Severe Side Effects   \n",
       "2           ponstel      10      Highly Effective      No Side Effects   \n",
       "3          prilosec       3  Marginally Effective    Mild Side Effects   \n",
       "4            lyrica       2  Marginally Effective  Severe Side Effects   \n",
       "\n",
       "                                condition  effectivenessScore  \\\n",
       "0  management of congestive heart failure                   5   \n",
       "1                        birth prevention                   5   \n",
       "2                        menstrual cramps                   5   \n",
       "3                             acid reflux                   2   \n",
       "4                            fibromyalgia                   2   \n",
       "\n",
       "   sideEffectsScore  \n",
       "0                 2  \n",
       "1                 4  \n",
       "2                 1  \n",
       "3                 2  \n",
       "4                 4  "
      ]
     },
     "execution_count": 34,
     "metadata": {},
     "output_type": "execute_result"
    }
   ],
   "source": [
    "table2_imputed.head()"
   ]
  },
  {
   "cell_type": "markdown",
   "id": "70146e7f",
   "metadata": {},
   "source": [
    "For our model i am also curious about if the type of condition affects the rating, so let's transform this feature into something that i can feed into a regression model:\n",
    "\n",
    "Let's start by seeing what this column has:"
   ]
  },
  {
   "cell_type": "code",
   "execution_count": 35,
   "id": "75f1dfb6",
   "metadata": {},
   "outputs": [
    {
     "data": {
      "text/plain": [
       "1807"
      ]
     },
     "execution_count": 35,
     "metadata": {},
     "output_type": "execute_result"
    }
   ],
   "source": [
    "table2_imputed.condition.nunique()"
   ]
  },
  {
   "cell_type": "markdown",
   "id": "01608a5a",
   "metadata": {},
   "source": [
    "At first I wanted to group this based on the type of condition it is. But after examining the data and seeing that a lot of the values are typos it's probably for the best to drop this to save the trouble. This can reduce predictive accuracy but would save a lot of work. I can probably revisit this after the NLP class. "
   ]
  },
  {
   "cell_type": "markdown",
   "id": "b2731189",
   "metadata": {},
   "source": [
    "What we will do next is we will drop the text columns effectiveness, sideEffects, and condition:"
   ]
  },
  {
   "cell_type": "code",
   "execution_count": 36,
   "id": "44b69a86",
   "metadata": {},
   "outputs": [],
   "source": [
    "table2_ready = table2_imputed.drop(['effectiveness', 'sideEffects', 'condition'], axis = 1)"
   ]
  },
  {
   "cell_type": "code",
   "execution_count": 37,
   "id": "7fcb8e82",
   "metadata": {},
   "outputs": [
    {
     "data": {
      "text/html": [
       "<div>\n",
       "<style scoped>\n",
       "    .dataframe tbody tr th:only-of-type {\n",
       "        vertical-align: middle;\n",
       "    }\n",
       "\n",
       "    .dataframe tbody tr th {\n",
       "        vertical-align: top;\n",
       "    }\n",
       "\n",
       "    .dataframe thead th {\n",
       "        text-align: right;\n",
       "    }\n",
       "</style>\n",
       "<table border=\"1\" class=\"dataframe\">\n",
       "  <thead>\n",
       "    <tr style=\"text-align: right;\">\n",
       "      <th></th>\n",
       "      <th>urlDrugName</th>\n",
       "      <th>rating</th>\n",
       "      <th>effectivenessScore</th>\n",
       "      <th>sideEffectsScore</th>\n",
       "    </tr>\n",
       "  </thead>\n",
       "  <tbody>\n",
       "    <tr>\n",
       "      <th>0</th>\n",
       "      <td>enalapril</td>\n",
       "      <td>4</td>\n",
       "      <td>5</td>\n",
       "      <td>2</td>\n",
       "    </tr>\n",
       "    <tr>\n",
       "      <th>1</th>\n",
       "      <td>ortho-tri-cyclen</td>\n",
       "      <td>1</td>\n",
       "      <td>5</td>\n",
       "      <td>4</td>\n",
       "    </tr>\n",
       "    <tr>\n",
       "      <th>2</th>\n",
       "      <td>ponstel</td>\n",
       "      <td>10</td>\n",
       "      <td>5</td>\n",
       "      <td>1</td>\n",
       "    </tr>\n",
       "    <tr>\n",
       "      <th>3</th>\n",
       "      <td>prilosec</td>\n",
       "      <td>3</td>\n",
       "      <td>2</td>\n",
       "      <td>2</td>\n",
       "    </tr>\n",
       "    <tr>\n",
       "      <th>4</th>\n",
       "      <td>lyrica</td>\n",
       "      <td>2</td>\n",
       "      <td>2</td>\n",
       "      <td>4</td>\n",
       "    </tr>\n",
       "  </tbody>\n",
       "</table>\n",
       "</div>"
      ],
      "text/plain": [
       "        urlDrugName  rating  effectivenessScore  sideEffectsScore\n",
       "0         enalapril       4                   5                 2\n",
       "1  ortho-tri-cyclen       1                   5                 4\n",
       "2           ponstel      10                   5                 1\n",
       "3          prilosec       3                   2                 2\n",
       "4            lyrica       2                   2                 4"
      ]
     },
     "execution_count": 37,
     "metadata": {},
     "output_type": "execute_result"
    }
   ],
   "source": [
    "table2_ready.head()"
   ]
  },
  {
   "cell_type": "markdown",
   "id": "fba48982",
   "metadata": {},
   "source": [
    "What I want to do now is I want to aggregate the reviews based on each drug so we have an average of each drug so we can feed out data into the model. \n",
    "\n",
    "This dataset lacks the upvote rate for each review (that table 1 has) so I can't weight the average based on how much people agree with the review. As a result I will have to give each review has the same weight, and not account for review accuracy. \n",
    "\n",
    "For this step i am using a trick suggested by this source: \n",
    "\n",
    "https://www.statology.org/pandas-mean-by-group/"
   ]
  },
  {
   "cell_type": "code",
   "execution_count": 38,
   "id": "d79f2bb8",
   "metadata": {},
   "outputs": [],
   "source": [
    "table2_aggregated = table2_ready.groupby('urlDrugName')[['rating', 'effectivenessScore', 'sideEffectsScore']].mean()"
   ]
  },
  {
   "cell_type": "code",
   "execution_count": 39,
   "id": "74bac517",
   "metadata": {},
   "outputs": [
    {
     "data": {
      "text/html": [
       "<div>\n",
       "<style scoped>\n",
       "    .dataframe tbody tr th:only-of-type {\n",
       "        vertical-align: middle;\n",
       "    }\n",
       "\n",
       "    .dataframe tbody tr th {\n",
       "        vertical-align: top;\n",
       "    }\n",
       "\n",
       "    .dataframe thead th {\n",
       "        text-align: right;\n",
       "    }\n",
       "</style>\n",
       "<table border=\"1\" class=\"dataframe\">\n",
       "  <thead>\n",
       "    <tr style=\"text-align: right;\">\n",
       "      <th></th>\n",
       "      <th>rating</th>\n",
       "      <th>effectivenessScore</th>\n",
       "      <th>sideEffectsScore</th>\n",
       "    </tr>\n",
       "    <tr>\n",
       "      <th>urlDrugName</th>\n",
       "      <th></th>\n",
       "      <th></th>\n",
       "      <th></th>\n",
       "    </tr>\n",
       "  </thead>\n",
       "  <tbody>\n",
       "    <tr>\n",
       "      <th>abilify</th>\n",
       "      <td>5.375000</td>\n",
       "      <td>3.625000</td>\n",
       "      <td>2.500000</td>\n",
       "    </tr>\n",
       "    <tr>\n",
       "      <th>acanya</th>\n",
       "      <td>9.000000</td>\n",
       "      <td>5.000000</td>\n",
       "      <td>2.000000</td>\n",
       "    </tr>\n",
       "    <tr>\n",
       "      <th>accolate</th>\n",
       "      <td>1.000000</td>\n",
       "      <td>1.000000</td>\n",
       "      <td>1.000000</td>\n",
       "    </tr>\n",
       "    <tr>\n",
       "      <th>accupril</th>\n",
       "      <td>9.000000</td>\n",
       "      <td>4.000000</td>\n",
       "      <td>1.000000</td>\n",
       "    </tr>\n",
       "    <tr>\n",
       "      <th>accutane</th>\n",
       "      <td>7.727273</td>\n",
       "      <td>4.522727</td>\n",
       "      <td>2.863636</td>\n",
       "    </tr>\n",
       "  </tbody>\n",
       "</table>\n",
       "</div>"
      ],
      "text/plain": [
       "               rating  effectivenessScore  sideEffectsScore\n",
       "urlDrugName                                                \n",
       "abilify      5.375000            3.625000          2.500000\n",
       "acanya       9.000000            5.000000          2.000000\n",
       "accolate     1.000000            1.000000          1.000000\n",
       "accupril     9.000000            4.000000          1.000000\n",
       "accutane     7.727273            4.522727          2.863636"
      ]
     },
     "execution_count": 39,
     "metadata": {},
     "output_type": "execute_result"
    }
   ],
   "source": [
    "table2_aggregated.head()"
   ]
  },
  {
   "cell_type": "markdown",
   "id": "ad075586",
   "metadata": {},
   "source": [
    "Okay, our data is ready for regression.\n",
    "\n",
    "I have opted not to remove outliers because I want to preserve the original distribution as much as possible. Plus all of the values in our data makes sense (e.g. no negative ratings) so there is no sense in removing anything. "
   ]
  },
  {
   "cell_type": "code",
   "execution_count": 40,
   "id": "6be7bdd5",
   "metadata": {},
   "outputs": [],
   "source": [
    "table2 = table2_aggregated.copy()"
   ]
  },
  {
   "cell_type": "code",
   "execution_count": 41,
   "id": "7c74f94d",
   "metadata": {},
   "outputs": [
    {
     "data": {
      "text/html": [
       "<div>\n",
       "<style scoped>\n",
       "    .dataframe tbody tr th:only-of-type {\n",
       "        vertical-align: middle;\n",
       "    }\n",
       "\n",
       "    .dataframe tbody tr th {\n",
       "        vertical-align: top;\n",
       "    }\n",
       "\n",
       "    .dataframe thead th {\n",
       "        text-align: right;\n",
       "    }\n",
       "</style>\n",
       "<table border=\"1\" class=\"dataframe\">\n",
       "  <thead>\n",
       "    <tr style=\"text-align: right;\">\n",
       "      <th></th>\n",
       "      <th>rating</th>\n",
       "      <th>effectivenessScore</th>\n",
       "      <th>sideEffectsScore</th>\n",
       "    </tr>\n",
       "    <tr>\n",
       "      <th>urlDrugName</th>\n",
       "      <th></th>\n",
       "      <th></th>\n",
       "      <th></th>\n",
       "    </tr>\n",
       "  </thead>\n",
       "  <tbody>\n",
       "    <tr>\n",
       "      <th>abilify</th>\n",
       "      <td>5.375000</td>\n",
       "      <td>3.625000</td>\n",
       "      <td>2.500000</td>\n",
       "    </tr>\n",
       "    <tr>\n",
       "      <th>acanya</th>\n",
       "      <td>9.000000</td>\n",
       "      <td>5.000000</td>\n",
       "      <td>2.000000</td>\n",
       "    </tr>\n",
       "    <tr>\n",
       "      <th>accolate</th>\n",
       "      <td>1.000000</td>\n",
       "      <td>1.000000</td>\n",
       "      <td>1.000000</td>\n",
       "    </tr>\n",
       "    <tr>\n",
       "      <th>accupril</th>\n",
       "      <td>9.000000</td>\n",
       "      <td>4.000000</td>\n",
       "      <td>1.000000</td>\n",
       "    </tr>\n",
       "    <tr>\n",
       "      <th>accutane</th>\n",
       "      <td>7.727273</td>\n",
       "      <td>4.522727</td>\n",
       "      <td>2.863636</td>\n",
       "    </tr>\n",
       "  </tbody>\n",
       "</table>\n",
       "</div>"
      ],
      "text/plain": [
       "               rating  effectivenessScore  sideEffectsScore\n",
       "urlDrugName                                                \n",
       "abilify      5.375000            3.625000          2.500000\n",
       "acanya       9.000000            5.000000          2.000000\n",
       "accolate     1.000000            1.000000          1.000000\n",
       "accupril     9.000000            4.000000          1.000000\n",
       "accutane     7.727273            4.522727          2.863636"
      ]
     },
     "execution_count": 41,
     "metadata": {},
     "output_type": "execute_result"
    }
   ],
   "source": [
    "table2.head()"
   ]
  },
  {
   "cell_type": "markdown",
   "id": "8eff243d",
   "metadata": {},
   "source": [
    "#### Summary (Data Cleaning)"
   ]
  },
  {
   "cell_type": "markdown",
   "id": "dc8fbd4d",
   "metadata": {},
   "source": [
    "For data cleaning I removed columns that have data types that are unsuitable to fitting a regression model. \n",
    "\n",
    "The biggest difficulty I would say that is a bit unforseen is the condition column. Inside I saw a lot of typos and stuff that made binning pretty much impossible, so I had to remove the feature. "
   ]
  },
  {
   "cell_type": "markdown",
   "id": "121e78c4",
   "metadata": {},
   "source": [
    "### EDA"
   ]
  },
  {
   "cell_type": "markdown",
   "id": "ae306851",
   "metadata": {},
   "source": [
    "Lets start by doing a pairs plot to check for correlation:"
   ]
  },
  {
   "cell_type": "code",
   "execution_count": 42,
   "id": "893d2517",
   "metadata": {},
   "outputs": [
    {
     "data": {
      "text/plain": [
       "<seaborn.axisgrid.PairGrid at 0x1eda26ec250>"
      ]
     },
     "execution_count": 42,
     "metadata": {},
     "output_type": "execute_result"
    },
    {
     "data": {
      "image/png": "[encoded data removed]",
      "text/plain": [
       "<Figure size 750x750 with 12 Axes>"
      ]
     },
     "metadata": {},
     "output_type": "display_data"
    }
   ],
   "source": [
    "sb.pairplot(table2)"
   ]
  },
  {
   "cell_type": "markdown",
   "id": "c1a2fc15",
   "metadata": {},
   "source": [
    "One of the things we have to note in that effectivenessScore and sideEffectsScore seems like they might be correlated! Let's create a correlation matrix to check for this!"
   ]
  },
  {
   "cell_type": "code",
   "execution_count": 43,
   "id": "277b3da0",
   "metadata": {},
   "outputs": [
    {
     "data": {
      "text/plain": [
       "<Axes: >"
      ]
     },
     "execution_count": 43,
     "metadata": {},
     "output_type": "execute_result"
    },
    {
     "data": {
      "image/png": "[encoded data removed]",
      "text/plain": [
       "<Figure size 640x480 with 2 Axes>"
      ]
     },
     "metadata": {},
     "output_type": "display_data"
    }
   ],
   "source": [
    "sb.heatmap(table2.corr(), annot=True, linewidth=.5, cmap=\"PiYG\", fmt=\".2f\", vmin = -1, vmax = 1)"
   ]
  },
  {
   "cell_type": "markdown",
   "id": "e3135ceb",
   "metadata": {},
   "source": [
    "There is a slight negative correlation between effectivenessScore and sideEffectsScore, not enough to count as colinear so we could fit a linear model directly if we so choose. But just for fun I will still try a regularization procedure that requires hyperparameter tuning known as ridge regression. "
   ]
  },
  {
   "cell_type": "markdown",
   "id": "3e664ecf",
   "metadata": {},
   "source": [
    "I do want to fit a regression to see if our regression coefficients are significant or not, using t-tests"
   ]
  },
  {
   "cell_type": "code",
   "execution_count": 44,
   "id": "c6fb195d",
   "metadata": {},
   "outputs": [
    {
     "data": {
      "text/html": [
       "<table class=\"simpletable\">\n",
       "<tr>\n",
       "        <td>Model:</td>               <td>OLS</td>         <td>Adj. R-squared:</td>     <td>0.742</td>  \n",
       "</tr>\n",
       "<tr>\n",
       "  <td>Dependent Variable:</td>      <td>rating</td>             <td>AIC:</td>         <td>1609.8503</td>\n",
       "</tr>\n",
       "<tr>\n",
       "         <td>Date:</td>        <td>2024-06-05 09:28</td>        <td>BIC:</td>         <td>1622.7305</td>\n",
       "</tr>\n",
       "<tr>\n",
       "   <td>No. Observations:</td>         <td>541</td>         <td>Log-Likelihood:</td>    <td>-801.93</td> \n",
       "</tr>\n",
       "<tr>\n",
       "       <td>Df Model:</td>              <td>2</td>           <td>F-statistic:</td>       <td>778.0</td>  \n",
       "</tr>\n",
       "<tr>\n",
       "     <td>Df Residuals:</td>           <td>538</td>       <td>Prob (F-statistic):</td> <td>1.75e-159</td>\n",
       "</tr>\n",
       "<tr>\n",
       "      <td>R-squared:</td>            <td>0.743</td>            <td>Scale:</td>         <td>1.1414</td>  \n",
       "</tr>\n",
       "</table>\n",
       "<table class=\"simpletable\">\n",
       "<tr>\n",
       "           <td></td>           <th>Coef.</th>  <th>Std.Err.</th>     <th>t</th>     <th>P>|t|</th> <th>[0.025</th>  <th>0.975]</th> \n",
       "</tr>\n",
       "<tr>\n",
       "  <th>Intercept</th>          <td>3.2420</td>   <td>0.2837</td>   <td>11.4255</td> <td>0.0000</td> <td>2.6846</td>  <td>3.7994</td> \n",
       "</tr>\n",
       "<tr>\n",
       "  <th>effectivenessScore</th> <td>1.5309</td>   <td>0.0553</td>   <td>27.6661</td> <td>0.0000</td> <td>1.4222</td>  <td>1.6396</td> \n",
       "</tr>\n",
       "<tr>\n",
       "  <th>sideEffectsScore</th>   <td>-1.0001</td>  <td>0.0552</td>  <td>-18.1266</td> <td>0.0000</td> <td>-1.1085</td> <td>-0.8918</td>\n",
       "</tr>\n",
       "</table>\n",
       "<table class=\"simpletable\">\n",
       "<tr>\n",
       "     <td>Omnibus:</td>    <td>78.988</td>  <td>Durbin-Watson:</td>    <td>2.062</td> \n",
       "</tr>\n",
       "<tr>\n",
       "  <td>Prob(Omnibus):</td>  <td>0.000</td> <td>Jarque-Bera (JB):</td> <td>380.061</td>\n",
       "</tr>\n",
       "<tr>\n",
       "       <td>Skew:</td>     <td>-0.533</td>     <td>Prob(JB):</td>      <td>0.000</td> \n",
       "</tr>\n",
       "<tr>\n",
       "     <td>Kurtosis:</td>    <td>6.966</td>  <td>Condition No.:</td>     <td>30</td>   \n",
       "</tr>\n",
       "</table><br/>\n",
       "Notes:<br/>\n",
       "[1] Standard Errors assume that the covariance matrix of the errors is correctly specified."
      ],
      "text/latex": [
       "\\begin{table}\n",
       "\\caption{Results: Ordinary least squares}\n",
       "\\label{}\n",
       "\\begin{center}\n",
       "\\begin{tabular}{llll}\n",
       "\\hline\n",
       "Model:              & OLS              & Adj. R-squared:     & 0.742      \\\\\n",
       "Dependent Variable: & rating           & AIC:                & 1609.8503  \\\\\n",
       "Date:               & 2024-06-05 09:28 & BIC:                & 1622.7305  \\\\\n",
       "No. Observations:   & 541              & Log-Likelihood:     & -801.93    \\\\\n",
       "Df Model:           & 2                & F-statistic:        & 778.0      \\\\\n",
       "Df Residuals:       & 538              & Prob (F-statistic): & 1.75e-159  \\\\\n",
       "R-squared:          & 0.743            & Scale:              & 1.1414     \\\\\n",
       "\\hline\n",
       "\\end{tabular}\n",
       "\\end{center}\n",
       "\n",
       "\\begin{center}\n",
       "\\begin{tabular}{lrrrrrr}\n",
       "\\hline\n",
       "                   &   Coef. & Std.Err. &        t & P$> |$t$|$ &  [0.025 &  0.975]  \\\\\n",
       "\\hline\n",
       "Intercept          &  3.2420 &   0.2837 &  11.4255 &      0.0000 &  2.6846 &  3.7994  \\\\\n",
       "effectivenessScore &  1.5309 &   0.0553 &  27.6661 &      0.0000 &  1.4222 &  1.6396  \\\\\n",
       "sideEffectsScore   & -1.0001 &   0.0552 & -18.1266 &      0.0000 & -1.1085 & -0.8918  \\\\\n",
       "\\hline\n",
       "\\end{tabular}\n",
       "\\end{center}\n",
       "\n",
       "\\begin{center}\n",
       "\\begin{tabular}{llll}\n",
       "\\hline\n",
       "Omnibus:       & 78.988 & Durbin-Watson:    & 2.062    \\\\\n",
       "Prob(Omnibus): & 0.000  & Jarque-Bera (JB): & 380.061  \\\\\n",
       "Skew:          & -0.533 & Prob(JB):         & 0.000    \\\\\n",
       "Kurtosis:      & 6.966  & Condition No.:    & 30       \\\\\n",
       "\\hline\n",
       "\\end{tabular}\n",
       "\\end{center}\n",
       "\\end{table}\n",
       "\\bigskip\n",
       "Notes: \\newline \n",
       "[1] Standard Errors assume that the covariance matrix of the errors is correctly specified."
      ],
      "text/plain": [
       "<class 'statsmodels.iolib.summary2.Summary'>\n",
       "\"\"\"\n",
       "                  Results: Ordinary least squares\n",
       "===================================================================\n",
       "Model:               OLS              Adj. R-squared:     0.742    \n",
       "Dependent Variable:  rating           AIC:                1609.8503\n",
       "Date:                2024-06-05 09:28 BIC:                1622.7305\n",
       "No. Observations:    541              Log-Likelihood:     -801.93  \n",
       "Df Model:            2                F-statistic:        778.0    \n",
       "Df Residuals:        538              Prob (F-statistic): 1.75e-159\n",
       "R-squared:           0.743            Scale:              1.1414   \n",
       "-------------------------------------------------------------------\n",
       "                    Coef.  Std.Err.    t     P>|t|   [0.025  0.975]\n",
       "-------------------------------------------------------------------\n",
       "Intercept           3.2420   0.2837  11.4255 0.0000  2.6846  3.7994\n",
       "effectivenessScore  1.5309   0.0553  27.6661 0.0000  1.4222  1.6396\n",
       "sideEffectsScore   -1.0001   0.0552 -18.1266 0.0000 -1.1085 -0.8918\n",
       "-------------------------------------------------------------------\n",
       "Omnibus:               78.988       Durbin-Watson:          2.062  \n",
       "Prob(Omnibus):         0.000        Jarque-Bera (JB):       380.061\n",
       "Skew:                  -0.533       Prob(JB):               0.000  \n",
       "Kurtosis:              6.966        Condition No.:          30     \n",
       "===================================================================\n",
       "Notes:\n",
       "[1] Standard Errors assume that the covariance matrix of the errors\n",
       "is correctly specified.\n",
       "\"\"\""
      ]
     },
     "execution_count": 44,
     "metadata": {},
     "output_type": "execute_result"
    }
   ],
   "source": [
    "smf.ols('rating ~ effectivenessScore + sideEffectsScore', data=table2).fit().summary2()"
   ]
  },
  {
   "cell_type": "markdown",
   "id": "b430dd6e",
   "metadata": {},
   "source": [
    "Based on the statistical tests above we can see that both effectivenessScore and sideEffectsScore have to be included for out regression analysis. \n",
    "\n",
    "We can also see that the F test tells us that we definitely need something larger than the null model. "
   ]
  },
  {
   "cell_type": "markdown",
   "id": "5ff45554",
   "metadata": {},
   "source": [
    "#### Summary (EDA)\n",
    "\n",
    "From the looks of this, this problem can be taken care of using regression. There is noise in the data so I am inclined to believe that a linear model would be best if I have to stand in front of a group of C suites and explain what we can infer from our data. \n",
    "\n",
    "But I will fit other models just to see how well they will work, and since our goal isn't really interpretability we can see which performs better for prediction. \n",
    "\n",
    "The F test and t test above suggest that we definitely can use a model to explain the variability in the data beyond the null model. As for which model. we can find out in the next section. "
   ]
  },
  {
   "cell_type": "markdown",
   "id": "4c5632e0",
   "metadata": {},
   "source": [
    "### Model Fitting"
   ]
  },
  {
   "cell_type": "markdown",
   "id": "01344729",
   "metadata": {},
   "source": [
    "For this I will fit several models and evaluate them based on their prediction error since our goal here is prediction, not inference. "
   ]
  },
  {
   "cell_type": "code",
   "execution_count": 45,
   "id": "2058c61c",
   "metadata": {},
   "outputs": [],
   "source": [
    "y = np.array(table2.drop(['effectivenessScore', 'sideEffectsScore'], axis = 1))[:,0]\n",
    "#print(y)\n",
    "X = (table2.drop(['rating'], axis = 1))\n",
    "#print(x)"
   ]
  },
  {
   "cell_type": "code",
   "execution_count": 46,
   "id": "13e2e885",
   "metadata": {},
   "outputs": [],
   "source": [
    "from sklearn.model_selection import train_test_split\n",
    "X_train, X_test, y_train, y_test = train_test_split(X, y, test_size=0.2, train_size = 0.8, random_state=25)"
   ]
  },
  {
   "cell_type": "markdown",
   "id": "7a23eea8",
   "metadata": {},
   "source": [
    "#### Multiple Linear Regression\n",
    "\n",
    "So let's begin with a simple linear regression, because based on the pairs plot it does seem like our data does show shmewhat of a linear structure.\n",
    "\n",
    "I will fit an interaction here just to see if we should include the interaction term in the model or not. Interaction terms are needed for additive models like the linear model if we wish to capture how features interact with each other."
   ]
  },
  {
   "cell_type": "code",
   "execution_count": 47,
   "id": "19e7f76c",
   "metadata": {},
   "outputs": [
    {
     "data": {
      "text/html": [
       "<table class=\"simpletable\">\n",
       "<caption>OLS Regression Results</caption>\n",
       "<tr>\n",
       "  <th>Dep. Variable:</th>         <td>rating</td>      <th>  R-squared:         </th> <td>   0.787</td> \n",
       "</tr>\n",
       "<tr>\n",
       "  <th>Model:</th>                   <td>OLS</td>       <th>  Adj. R-squared:    </th> <td>   0.786</td> \n",
       "</tr>\n",
       "<tr>\n",
       "  <th>Method:</th>             <td>Least Squares</td>  <th>  F-statistic:       </th> <td>   527.2</td> \n",
       "</tr>\n",
       "<tr>\n",
       "  <th>Date:</th>             <td>Wed, 05 Jun 2024</td> <th>  Prob (F-statistic):</th> <td>2.67e-143</td>\n",
       "</tr>\n",
       "<tr>\n",
       "  <th>Time:</th>                 <td>09:28:03</td>     <th>  Log-Likelihood:    </th> <td> -594.59</td> \n",
       "</tr>\n",
       "<tr>\n",
       "  <th>No. Observations:</th>      <td>   432</td>      <th>  AIC:               </th> <td>   1197.</td> \n",
       "</tr>\n",
       "<tr>\n",
       "  <th>Df Residuals:</th>          <td>   428</td>      <th>  BIC:               </th> <td>   1213.</td> \n",
       "</tr>\n",
       "<tr>\n",
       "  <th>Df Model:</th>              <td>     3</td>      <th>                     </th>     <td> </td>    \n",
       "</tr>\n",
       "<tr>\n",
       "  <th>Covariance Type:</th>      <td>nonrobust</td>    <th>                     </th>     <td> </td>    \n",
       "</tr>\n",
       "</table>\n",
       "<table class=\"simpletable\">\n",
       "<tr>\n",
       "                   <td></td>                      <th>coef</th>     <th>std err</th>      <th>t</th>      <th>P>|t|</th>  <th>[0.025</th>    <th>0.975]</th>  \n",
       "</tr>\n",
       "<tr>\n",
       "  <th>Intercept</th>                           <td>    1.5508</td> <td>    0.475</td> <td>    3.265</td> <td> 0.001</td> <td>    0.617</td> <td>    2.484</td>\n",
       "</tr>\n",
       "<tr>\n",
       "  <th>effectivenessScore</th>                  <td>    1.9349</td> <td>    0.116</td> <td>   16.689</td> <td> 0.000</td> <td>    1.707</td> <td>    2.163</td>\n",
       "</tr>\n",
       "<tr>\n",
       "  <th>sideEffectsScore</th>                    <td>   -0.3669</td> <td>    0.172</td> <td>   -2.139</td> <td> 0.033</td> <td>   -0.704</td> <td>   -0.030</td>\n",
       "</tr>\n",
       "<tr>\n",
       "  <th>effectivenessScore:sideEffectsScore</th> <td>   -0.1461</td> <td>    0.045</td> <td>   -3.242</td> <td> 0.001</td> <td>   -0.235</td> <td>   -0.058</td>\n",
       "</tr>\n",
       "</table>\n",
       "<table class=\"simpletable\">\n",
       "<tr>\n",
       "  <th>Omnibus:</th>       <td>27.582</td> <th>  Durbin-Watson:     </th> <td>   2.172</td>\n",
       "</tr>\n",
       "<tr>\n",
       "  <th>Prob(Omnibus):</th> <td> 0.000</td> <th>  Jarque-Bera (JB):  </th> <td>  96.715</td>\n",
       "</tr>\n",
       "<tr>\n",
       "  <th>Skew:</th>          <td>-0.035</td> <th>  Prob(JB):          </th> <td>9.97e-22</td>\n",
       "</tr>\n",
       "<tr>\n",
       "  <th>Kurtosis:</th>      <td> 5.317</td> <th>  Cond. No.          </th> <td>    109.</td>\n",
       "</tr>\n",
       "</table><br/><br/>Notes:<br/>[1] Standard Errors assume that the covariance matrix of the errors is correctly specified."
      ],
      "text/latex": [
       "\\begin{center}\n",
       "\\begin{tabular}{lclc}\n",
       "\\toprule\n",
       "\\textbf{Dep. Variable:}                      &      rating      & \\textbf{  R-squared:         } &     0.787   \\\\\n",
       "\\textbf{Model:}                              &       OLS        & \\textbf{  Adj. R-squared:    } &     0.786   \\\\\n",
       "\\textbf{Method:}                             &  Least Squares   & \\textbf{  F-statistic:       } &     527.2   \\\\\n",
       "\\textbf{Date:}                               & Wed, 05 Jun 2024 & \\textbf{  Prob (F-statistic):} & 2.67e-143   \\\\\n",
       "\\textbf{Time:}                               &     09:28:03     & \\textbf{  Log-Likelihood:    } &   -594.59   \\\\\n",
       "\\textbf{No. Observations:}                   &         432      & \\textbf{  AIC:               } &     1197.   \\\\\n",
       "\\textbf{Df Residuals:}                       &         428      & \\textbf{  BIC:               } &     1213.   \\\\\n",
       "\\textbf{Df Model:}                           &           3      & \\textbf{                     } &             \\\\\n",
       "\\textbf{Covariance Type:}                    &    nonrobust     & \\textbf{                     } &             \\\\\n",
       "\\bottomrule\n",
       "\\end{tabular}\n",
       "\\begin{tabular}{lcccccc}\n",
       "                                             & \\textbf{coef} & \\textbf{std err} & \\textbf{t} & \\textbf{P$> |$t$|$} & \\textbf{[0.025} & \\textbf{0.975]}  \\\\\n",
       "\\midrule\n",
       "\\textbf{Intercept}                           &       1.5508  &        0.475     &     3.265  &         0.001        &        0.617    &        2.484     \\\\\n",
       "\\textbf{effectivenessScore}                  &       1.9349  &        0.116     &    16.689  &         0.000        &        1.707    &        2.163     \\\\\n",
       "\\textbf{sideEffectsScore}                    &      -0.3669  &        0.172     &    -2.139  &         0.033        &       -0.704    &       -0.030     \\\\\n",
       "\\textbf{effectivenessScore:sideEffectsScore} &      -0.1461  &        0.045     &    -3.242  &         0.001        &       -0.235    &       -0.058     \\\\\n",
       "\\bottomrule\n",
       "\\end{tabular}\n",
       "\\begin{tabular}{lclc}\n",
       "\\textbf{Omnibus:}       & 27.582 & \\textbf{  Durbin-Watson:     } &    2.172  \\\\\n",
       "\\textbf{Prob(Omnibus):} &  0.000 & \\textbf{  Jarque-Bera (JB):  } &   96.715  \\\\\n",
       "\\textbf{Skew:}          & -0.035 & \\textbf{  Prob(JB):          } & 9.97e-22  \\\\\n",
       "\\textbf{Kurtosis:}      &  5.317 & \\textbf{  Cond. No.          } &     109.  \\\\\n",
       "\\bottomrule\n",
       "\\end{tabular}\n",
       "%\\caption{OLS Regression Results}\n",
       "\\end{center}\n",
       "\n",
       "Notes: \\newline\n",
       " [1] Standard Errors assume that the covariance matrix of the errors is correctly specified."
      ],
      "text/plain": [
       "<class 'statsmodels.iolib.summary.Summary'>\n",
       "\"\"\"\n",
       "                            OLS Regression Results                            \n",
       "==============================================================================\n",
       "Dep. Variable:                 rating   R-squared:                       0.787\n",
       "Model:                            OLS   Adj. R-squared:                  0.786\n",
       "Method:                 Least Squares   F-statistic:                     527.2\n",
       "Date:                Wed, 05 Jun 2024   Prob (F-statistic):          2.67e-143\n",
       "Time:                        09:28:03   Log-Likelihood:                -594.59\n",
       "No. Observations:                 432   AIC:                             1197.\n",
       "Df Residuals:                     428   BIC:                             1213.\n",
       "Df Model:                           3                                         \n",
       "Covariance Type:            nonrobust                                         \n",
       "=======================================================================================================\n",
       "                                          coef    std err          t      P>|t|      [0.025      0.975]\n",
       "-------------------------------------------------------------------------------------------------------\n",
       "Intercept                               1.5508      0.475      3.265      0.001       0.617       2.484\n",
       "effectivenessScore                      1.9349      0.116     16.689      0.000       1.707       2.163\n",
       "sideEffectsScore                       -0.3669      0.172     -2.139      0.033      -0.704      -0.030\n",
       "effectivenessScore:sideEffectsScore    -0.1461      0.045     -3.242      0.001      -0.235      -0.058\n",
       "==============================================================================\n",
       "Omnibus:                       27.582   Durbin-Watson:                   2.172\n",
       "Prob(Omnibus):                  0.000   Jarque-Bera (JB):               96.715\n",
       "Skew:                          -0.035   Prob(JB):                     9.97e-22\n",
       "Kurtosis:                       5.317   Cond. No.                         109.\n",
       "==============================================================================\n",
       "\n",
       "Notes:\n",
       "[1] Standard Errors assume that the covariance matrix of the errors is correctly specified.\n",
       "\"\"\""
      ]
     },
     "execution_count": 47,
     "metadata": {},
     "output_type": "execute_result"
    }
   ],
   "source": [
    "from sklearn.linear_model import LinearRegression\n",
    "train, test = train_test_split(table2, test_size=0.2, train_size = 0.8, random_state=25)\n",
    "linearModel = smf.ols('rating ~ effectivenessScore * sideEffectsScore', data=(train)).fit()\n",
    "linearModel.summary()"
   ]
  },
  {
   "cell_type": "markdown",
   "id": "7db47f28",
   "metadata": {},
   "source": [
    "It looks like the interaction term is statistically significant so we should include it actually. But just for the sake of argument let's fit a model without an interaction term and we will see in the end which is better. "
   ]
  },
  {
   "cell_type": "code",
   "execution_count": 48,
   "id": "96592e14",
   "metadata": {},
   "outputs": [
    {
     "data": {
      "text/html": [
       "<table class=\"simpletable\">\n",
       "<caption>OLS Regression Results</caption>\n",
       "<tr>\n",
       "  <th>Dep. Variable:</th>         <td>rating</td>      <th>  R-squared:         </th> <td>   0.782</td> \n",
       "</tr>\n",
       "<tr>\n",
       "  <th>Model:</th>                   <td>OLS</td>       <th>  Adj. R-squared:    </th> <td>   0.781</td> \n",
       "</tr>\n",
       "<tr>\n",
       "  <th>Method:</th>             <td>Least Squares</td>  <th>  F-statistic:       </th> <td>   768.5</td> \n",
       "</tr>\n",
       "<tr>\n",
       "  <th>Date:</th>             <td>Wed, 05 Jun 2024</td> <th>  Prob (F-statistic):</th> <td>1.53e-142</td>\n",
       "</tr>\n",
       "<tr>\n",
       "  <th>Time:</th>                 <td>09:28:03</td>     <th>  Log-Likelihood:    </th> <td> -599.83</td> \n",
       "</tr>\n",
       "<tr>\n",
       "  <th>No. Observations:</th>      <td>   432</td>      <th>  AIC:               </th> <td>   1206.</td> \n",
       "</tr>\n",
       "<tr>\n",
       "  <th>Df Residuals:</th>          <td>   429</td>      <th>  BIC:               </th> <td>   1218.</td> \n",
       "</tr>\n",
       "<tr>\n",
       "  <th>Df Model:</th>              <td>     2</td>      <th>                     </th>     <td> </td>    \n",
       "</tr>\n",
       "<tr>\n",
       "  <th>Covariance Type:</th>      <td>nonrobust</td>    <th>                     </th>     <td> </td>    \n",
       "</tr>\n",
       "</table>\n",
       "<table class=\"simpletable\">\n",
       "<tr>\n",
       "           <td></td>             <th>coef</th>     <th>std err</th>      <th>t</th>      <th>P>|t|</th>  <th>[0.025</th>    <th>0.975]</th>  \n",
       "</tr>\n",
       "<tr>\n",
       "  <th>Intercept</th>          <td>    2.7789</td> <td>    0.290</td> <td>    9.588</td> <td> 0.000</td> <td>    2.209</td> <td>    3.349</td>\n",
       "</tr>\n",
       "<tr>\n",
       "  <th>effectivenessScore</th> <td>    1.6045</td> <td>    0.056</td> <td>   28.696</td> <td> 0.000</td> <td>    1.495</td> <td>    1.714</td>\n",
       "</tr>\n",
       "<tr>\n",
       "  <th>sideEffectsScore</th>   <td>   -0.8908</td> <td>    0.058</td> <td>  -15.311</td> <td> 0.000</td> <td>   -1.005</td> <td>   -0.776</td>\n",
       "</tr>\n",
       "</table>\n",
       "<table class=\"simpletable\">\n",
       "<tr>\n",
       "  <th>Omnibus:</th>       <td>35.645</td> <th>  Durbin-Watson:     </th> <td>   2.150</td>\n",
       "</tr>\n",
       "<tr>\n",
       "  <th>Prob(Omnibus):</th> <td> 0.000</td> <th>  Jarque-Bera (JB):  </th> <td> 161.638</td>\n",
       "</tr>\n",
       "<tr>\n",
       "  <th>Skew:</th>          <td>-0.037</td> <th>  Prob(JB):          </th> <td>7.96e-36</td>\n",
       "</tr>\n",
       "<tr>\n",
       "  <th>Kurtosis:</th>      <td> 5.996</td> <th>  Cond. No.          </th> <td>    29.3</td>\n",
       "</tr>\n",
       "</table><br/><br/>Notes:<br/>[1] Standard Errors assume that the covariance matrix of the errors is correctly specified."
      ],
      "text/latex": [
       "\\begin{center}\n",
       "\\begin{tabular}{lclc}\n",
       "\\toprule\n",
       "\\textbf{Dep. Variable:}     &      rating      & \\textbf{  R-squared:         } &     0.782   \\\\\n",
       "\\textbf{Model:}             &       OLS        & \\textbf{  Adj. R-squared:    } &     0.781   \\\\\n",
       "\\textbf{Method:}            &  Least Squares   & \\textbf{  F-statistic:       } &     768.5   \\\\\n",
       "\\textbf{Date:}              & Wed, 05 Jun 2024 & \\textbf{  Prob (F-statistic):} & 1.53e-142   \\\\\n",
       "\\textbf{Time:}              &     09:28:03     & \\textbf{  Log-Likelihood:    } &   -599.83   \\\\\n",
       "\\textbf{No. Observations:}  &         432      & \\textbf{  AIC:               } &     1206.   \\\\\n",
       "\\textbf{Df Residuals:}      &         429      & \\textbf{  BIC:               } &     1218.   \\\\\n",
       "\\textbf{Df Model:}          &           2      & \\textbf{                     } &             \\\\\n",
       "\\textbf{Covariance Type:}   &    nonrobust     & \\textbf{                     } &             \\\\\n",
       "\\bottomrule\n",
       "\\end{tabular}\n",
       "\\begin{tabular}{lcccccc}\n",
       "                            & \\textbf{coef} & \\textbf{std err} & \\textbf{t} & \\textbf{P$> |$t$|$} & \\textbf{[0.025} & \\textbf{0.975]}  \\\\\n",
       "\\midrule\n",
       "\\textbf{Intercept}          &       2.7789  &        0.290     &     9.588  &         0.000        &        2.209    &        3.349     \\\\\n",
       "\\textbf{effectivenessScore} &       1.6045  &        0.056     &    28.696  &         0.000        &        1.495    &        1.714     \\\\\n",
       "\\textbf{sideEffectsScore}   &      -0.8908  &        0.058     &   -15.311  &         0.000        &       -1.005    &       -0.776     \\\\\n",
       "\\bottomrule\n",
       "\\end{tabular}\n",
       "\\begin{tabular}{lclc}\n",
       "\\textbf{Omnibus:}       & 35.645 & \\textbf{  Durbin-Watson:     } &    2.150  \\\\\n",
       "\\textbf{Prob(Omnibus):} &  0.000 & \\textbf{  Jarque-Bera (JB):  } &  161.638  \\\\\n",
       "\\textbf{Skew:}          & -0.037 & \\textbf{  Prob(JB):          } & 7.96e-36  \\\\\n",
       "\\textbf{Kurtosis:}      &  5.996 & \\textbf{  Cond. No.          } &     29.3  \\\\\n",
       "\\bottomrule\n",
       "\\end{tabular}\n",
       "%\\caption{OLS Regression Results}\n",
       "\\end{center}\n",
       "\n",
       "Notes: \\newline\n",
       " [1] Standard Errors assume that the covariance matrix of the errors is correctly specified."
      ],
      "text/plain": [
       "<class 'statsmodels.iolib.summary.Summary'>\n",
       "\"\"\"\n",
       "                            OLS Regression Results                            \n",
       "==============================================================================\n",
       "Dep. Variable:                 rating   R-squared:                       0.782\n",
       "Model:                            OLS   Adj. R-squared:                  0.781\n",
       "Method:                 Least Squares   F-statistic:                     768.5\n",
       "Date:                Wed, 05 Jun 2024   Prob (F-statistic):          1.53e-142\n",
       "Time:                        09:28:03   Log-Likelihood:                -599.83\n",
       "No. Observations:                 432   AIC:                             1206.\n",
       "Df Residuals:                     429   BIC:                             1218.\n",
       "Df Model:                           2                                         \n",
       "Covariance Type:            nonrobust                                         \n",
       "======================================================================================\n",
       "                         coef    std err          t      P>|t|      [0.025      0.975]\n",
       "--------------------------------------------------------------------------------------\n",
       "Intercept              2.7789      0.290      9.588      0.000       2.209       3.349\n",
       "effectivenessScore     1.6045      0.056     28.696      0.000       1.495       1.714\n",
       "sideEffectsScore      -0.8908      0.058    -15.311      0.000      -1.005      -0.776\n",
       "==============================================================================\n",
       "Omnibus:                       35.645   Durbin-Watson:                   2.150\n",
       "Prob(Omnibus):                  0.000   Jarque-Bera (JB):              161.638\n",
       "Skew:                          -0.037   Prob(JB):                     7.96e-36\n",
       "Kurtosis:                       5.996   Cond. No.                         29.3\n",
       "==============================================================================\n",
       "\n",
       "Notes:\n",
       "[1] Standard Errors assume that the covariance matrix of the errors is correctly specified.\n",
       "\"\"\""
      ]
     },
     "execution_count": 48,
     "metadata": {},
     "output_type": "execute_result"
    }
   ],
   "source": [
    "linearModelNoInt = smf.ols('rating ~ effectivenessScore + sideEffectsScore', data=(train)).fit()\n",
    "linearModelNoInt.summary()"
   ]
  },
  {
   "cell_type": "markdown",
   "id": "b96d696e",
   "metadata": {},
   "source": [
    "#### Generalized Additive Model (Regression)\n",
    "\n",
    "##### For this next model i will use a model not taught in this class: The generalized additive model. \n",
    "\n",
    "In short it is a blend between parametric and nonparametric models.\n",
    "\n",
    "Generalized additive models is a more general model that allows us to fit nonlinear relationships for each feature to the response. It still complies with the additive framework that allows us to tease apart the effects of the various features.\n",
    "\n",
    "For this generalized additive model i am fitting an interaction term, because just like in the linear model, we need an interaction term to account for the interactions between the features. \n",
    "\n",
    "In this case I am fitting a function known as a spline to each of the features. "
   ]
  },
  {
   "cell_type": "code",
   "execution_count": 49,
   "id": "d12b5078",
   "metadata": {},
   "outputs": [
    {
     "data": {
      "text/html": [
       "<table class=\"simpletable\">\n",
       "<caption>Generalized Linear Model Regression Results</caption>\n",
       "<tr>\n",
       "  <th>Dep. Variable:</th>        <td>rating</td>      <th>  No. Observations:  </th>  <td>   432</td> \n",
       "</tr>\n",
       "<tr>\n",
       "  <th>Model:</th>                <td>GLMGam</td>      <th>  Df Residuals:      </th> <td>  424.00</td>\n",
       "</tr>\n",
       "<tr>\n",
       "  <th>Model Family:</th>        <td>Gaussian</td>     <th>  Df Model:          </th> <td>    7.00</td>\n",
       "</tr>\n",
       "<tr>\n",
       "  <th>Link Function:</th>       <td>Identity</td>     <th>  Scale:             </th> <td> 0.85592</td>\n",
       "</tr>\n",
       "<tr>\n",
       "  <th>Method:</th>                <td>PIRLS</td>      <th>  Log-Likelihood:    </th> <td> -575.34</td>\n",
       "</tr>\n",
       "<tr>\n",
       "  <th>Date:</th>            <td>Wed, 05 Jun 2024</td> <th>  Deviance:          </th> <td>  362.91</td>\n",
       "</tr>\n",
       "<tr>\n",
       "  <th>Time:</th>                <td>09:28:03</td>     <th>  Pearson chi2:      </th>  <td>  363.</td> \n",
       "</tr>\n",
       "<tr>\n",
       "  <th>No. Iterations:</th>          <td>3</td>        <th>  Pseudo R-squ. (CS):</th>  <td>0.9827</td> \n",
       "</tr>\n",
       "<tr>\n",
       "  <th>Covariance Type:</th>     <td>nonrobust</td>    <th>                     </th>     <td> </td>   \n",
       "</tr>\n",
       "</table>\n",
       "<table class=\"simpletable\">\n",
       "<tr>\n",
       "                   <td></td>                      <th>coef</th>     <th>std err</th>      <th>z</th>      <th>P>|z|</th>  <th>[0.025</th>    <th>0.975]</th>  \n",
       "</tr>\n",
       "<tr>\n",
       "  <th>Intercept</th>                           <td>    0.5858</td> <td>    0.513</td> <td>    1.142</td> <td> 0.254</td> <td>   -0.420</td> <td>    1.592</td>\n",
       "</tr>\n",
       "<tr>\n",
       "  <th>effectivenessScore</th>                  <td>    2.0634</td> <td>    0.119</td> <td>   17.289</td> <td> 0.000</td> <td>    1.830</td> <td>    2.297</td>\n",
       "</tr>\n",
       "<tr>\n",
       "  <th>sideEffectsScore</th>                    <td>   -0.0730</td> <td>    0.155</td> <td>   -0.472</td> <td> 0.637</td> <td>   -0.376</td> <td>    0.230</td>\n",
       "</tr>\n",
       "<tr>\n",
       "  <th>effectivenessScore:sideEffectsScore</th> <td>   -0.2392</td> <td>    0.050</td> <td>   -4.824</td> <td> 0.000</td> <td>   -0.336</td> <td>   -0.142</td>\n",
       "</tr>\n",
       "<tr>\n",
       "  <th>effectivenessScore_s0</th>               <td>    0.6817</td> <td>    0.527</td> <td>    1.294</td> <td> 0.196</td> <td>   -0.351</td> <td>    1.714</td>\n",
       "</tr>\n",
       "<tr>\n",
       "  <th>effectivenessScore_s1</th>               <td>   -0.1680</td> <td>    0.305</td> <td>   -0.551</td> <td> 0.582</td> <td>   -0.766</td> <td>    0.430</td>\n",
       "</tr>\n",
       "<tr>\n",
       "  <th>effectivenessScore_s2</th>               <td>    0.2542</td> <td>    0.121</td> <td>    2.107</td> <td> 0.035</td> <td>    0.018</td> <td>    0.491</td>\n",
       "</tr>\n",
       "<tr>\n",
       "  <th>sideEffectsScore_s0</th>                 <td>    1.8903</td> <td>    0.358</td> <td>    5.284</td> <td> 0.000</td> <td>    1.189</td> <td>    2.591</td>\n",
       "</tr>\n",
       "<tr>\n",
       "  <th>sideEffectsScore_s1</th>                 <td>   -0.6858</td> <td>    0.563</td> <td>   -1.219</td> <td> 0.223</td> <td>   -1.789</td> <td>    0.417</td>\n",
       "</tr>\n",
       "<tr>\n",
       "  <th>sideEffectsScore_s2</th>                 <td>   -0.3376</td> <td>    0.316</td> <td>   -1.067</td> <td> 0.286</td> <td>   -0.957</td> <td>    0.282</td>\n",
       "</tr>\n",
       "</table>"
      ],
      "text/latex": [
       "\\begin{center}\n",
       "\\begin{tabular}{lclc}\n",
       "\\toprule\n",
       "\\textbf{Dep. Variable:}                      &      rating      & \\textbf{  No. Observations:  } &      432    \\\\\n",
       "\\textbf{Model:}                              &      GLMGam      & \\textbf{  Df Residuals:      } &    424.00   \\\\\n",
       "\\textbf{Model Family:}                       &     Gaussian     & \\textbf{  Df Model:          } &      7.00   \\\\\n",
       "\\textbf{Link Function:}                      &     Identity     & \\textbf{  Scale:             } &   0.85592   \\\\\n",
       "\\textbf{Method:}                             &      PIRLS       & \\textbf{  Log-Likelihood:    } &   -575.34   \\\\\n",
       "\\textbf{Date:}                               & Wed, 05 Jun 2024 & \\textbf{  Deviance:          } &    362.91   \\\\\n",
       "\\textbf{Time:}                               &     09:28:03     & \\textbf{  Pearson chi2:      } &     363.    \\\\\n",
       "\\textbf{No. Iterations:}                     &        3         & \\textbf{  Pseudo R-squ. (CS):} &   0.9827    \\\\\n",
       "\\textbf{Covariance Type:}                    &    nonrobust     & \\textbf{                     } &             \\\\\n",
       "\\bottomrule\n",
       "\\end{tabular}\n",
       "\\begin{tabular}{lcccccc}\n",
       "                                             & \\textbf{coef} & \\textbf{std err} & \\textbf{z} & \\textbf{P$> |$z$|$} & \\textbf{[0.025} & \\textbf{0.975]}  \\\\\n",
       "\\midrule\n",
       "\\textbf{Intercept}                           &       0.5858  &        0.513     &     1.142  &         0.254        &       -0.420    &        1.592     \\\\\n",
       "\\textbf{effectivenessScore}                  &       2.0634  &        0.119     &    17.289  &         0.000        &        1.830    &        2.297     \\\\\n",
       "\\textbf{sideEffectsScore}                    &      -0.0730  &        0.155     &    -0.472  &         0.637        &       -0.376    &        0.230     \\\\\n",
       "\\textbf{effectivenessScore:sideEffectsScore} &      -0.2392  &        0.050     &    -4.824  &         0.000        &       -0.336    &       -0.142     \\\\\n",
       "\\textbf{effectivenessScore\\_s0}              &       0.6817  &        0.527     &     1.294  &         0.196        &       -0.351    &        1.714     \\\\\n",
       "\\textbf{effectivenessScore\\_s1}              &      -0.1680  &        0.305     &    -0.551  &         0.582        &       -0.766    &        0.430     \\\\\n",
       "\\textbf{effectivenessScore\\_s2}              &       0.2542  &        0.121     &     2.107  &         0.035        &        0.018    &        0.491     \\\\\n",
       "\\textbf{sideEffectsScore\\_s0}                &       1.8903  &        0.358     &     5.284  &         0.000        &        1.189    &        2.591     \\\\\n",
       "\\textbf{sideEffectsScore\\_s1}                &      -0.6858  &        0.563     &    -1.219  &         0.223        &       -1.789    &        0.417     \\\\\n",
       "\\textbf{sideEffectsScore\\_s2}                &      -0.3376  &        0.316     &    -1.067  &         0.286        &       -0.957    &        0.282     \\\\\n",
       "\\bottomrule\n",
       "\\end{tabular}\n",
       "%\\caption{Generalized Linear Model Regression Results}\n",
       "\\end{center}"
      ],
      "text/plain": [
       "<class 'statsmodels.iolib.summary.Summary'>\n",
       "\"\"\"\n",
       "                 Generalized Linear Model Regression Results                  \n",
       "==============================================================================\n",
       "Dep. Variable:                 rating   No. Observations:                  432\n",
       "Model:                         GLMGam   Df Residuals:                   424.00\n",
       "Model Family:                Gaussian   Df Model:                         7.00\n",
       "Link Function:               Identity   Scale:                         0.85592\n",
       "Method:                         PIRLS   Log-Likelihood:                -575.34\n",
       "Date:                Wed, 05 Jun 2024   Deviance:                       362.91\n",
       "Time:                        09:28:03   Pearson chi2:                     363.\n",
       "No. Iterations:                     3   Pseudo R-squ. (CS):             0.9827\n",
       "Covariance Type:            nonrobust                                         \n",
       "=======================================================================================================\n",
       "                                          coef    std err          z      P>|z|      [0.025      0.975]\n",
       "-------------------------------------------------------------------------------------------------------\n",
       "Intercept                               0.5858      0.513      1.142      0.254      -0.420       1.592\n",
       "effectivenessScore                      2.0634      0.119     17.289      0.000       1.830       2.297\n",
       "sideEffectsScore                       -0.0730      0.155     -0.472      0.637      -0.376       0.230\n",
       "effectivenessScore:sideEffectsScore    -0.2392      0.050     -4.824      0.000      -0.336      -0.142\n",
       "effectivenessScore_s0                   0.6817      0.527      1.294      0.196      -0.351       1.714\n",
       "effectivenessScore_s1                  -0.1680      0.305     -0.551      0.582      -0.766       0.430\n",
       "effectivenessScore_s2                   0.2542      0.121      2.107      0.035       0.018       0.491\n",
       "sideEffectsScore_s0                     1.8903      0.358      5.284      0.000       1.189       2.591\n",
       "sideEffectsScore_s1                    -0.6858      0.563     -1.219      0.223      -1.789       0.417\n",
       "sideEffectsScore_s2                    -0.3376      0.316     -1.067      0.286      -0.957       0.282\n",
       "=======================================================================================================\n",
       "\"\"\""
      ]
     },
     "execution_count": 49,
     "metadata": {},
     "output_type": "execute_result"
    }
   ],
   "source": [
    "from statsmodels.gam.api import GLMGam, BSplines, CyclicCubicSplines\n",
    "x_spline = train[['effectivenessScore', 'sideEffectsScore']]\n",
    "bs = BSplines(x_spline, df=[4, 4], degree=[3, 3])\n",
    "gam = GLMGam.from_formula('rating ~ effectivenessScore * sideEffectsScore', data=train, smoother = bs).fit()\n",
    "gam.summary()"
   ]
  },
  {
   "cell_type": "markdown",
   "id": "6894de66",
   "metadata": {},
   "source": [
    "I have to be honest. This GAM in python is not as easy to use compared to its counterpart in R. I will not conduct cross validation for this model because its just a pain to implement. Plus I can do cross validation with the other models that I will try. Besides, if it was up to me I would probably have exported the data and used R to fit the GAM model. \n",
    "\n",
    "The df in BSplines here is the degrees of freedom, its related to the knots that the spline has where $df = knots + degree$"
   ]
  },
  {
   "cell_type": "markdown",
   "id": "c2f18e5e",
   "metadata": {},
   "source": [
    "#### Ridge Regression\n",
    "\n",
    "##### This is another model not covered in class\n",
    "\n",
    "Let's them attempt to fit the ridge regression, for this i will tune the regularization parameter. \n",
    "\n",
    "For those that don't know ridge regression addresses collinearity and thus overfitting by penalizing the MSE we minimize. \n",
    "\n",
    "I will not use LASSO because the feature space is not sparse in this case, so there is no point in using L1 regularization."
   ]
  },
  {
   "cell_type": "code",
   "execution_count": 50,
   "id": "06fa22d1",
   "metadata": {},
   "outputs": [],
   "source": [
    "from sklearn.model_selection import GridSearchCV"
   ]
  },
  {
   "cell_type": "code",
   "execution_count": 51,
   "id": "370226f1",
   "metadata": {},
   "outputs": [
    {
     "name": "stdout",
     "output_type": "stream",
     "text": [
      "{'alpha': 1.515716566510398}\n"
     ]
    },
    {
     "data": {
      "text/plain": [
       "<matplotlib.legend.Legend at 0x1eda4a28650>"
      ]
     },
     "execution_count": 51,
     "metadata": {},
     "output_type": "execute_result"
    },
    {
     "data": {
      "image/png": "[encoded data removed]",
      "text/plain": [
       "<Figure size 640x480 with 1 Axes>"
      ]
     },
     "metadata": {},
     "output_type": "display_data"
    }
   ],
   "source": [
    "from sklearn.linear_model import Ridge\n",
    "alphaVals = list(range(-300,300))\n",
    "alphaVals = [(2)**(x/10) for x in alphaVals]\n",
    "alphas = {'alpha': alphaVals}\n",
    "ridgeGrid = GridSearchCV(estimator = Ridge(), param_grid = alphas, scoring = 'neg_mean_squared_error',\n",
    "                       cv = 5, verbose = 0).fit(X_train, y_train)\n",
    "print(ridgeGrid.best_params_)\n",
    "\n",
    "\n",
    "#ridgeGrid.cv_results_\n",
    "#scores = [x[1] for x in ridgeGrid.cv_results_['mean_test_score']]\n",
    "#scores = np.array(scores).reshape(len(alphaVals))\n",
    "fig, ax = plt.subplots()\n",
    "ax.plot(np.log(alphaVals),-1*ridgeGrid.cv_results_['mean_test_score'], label = 'ridge')\n",
    "ax.set_ylabel(\"MSE\")\n",
    "ax.set_xlabel(\"log alpha\")\n",
    "ax.legend()"
   ]
  },
  {
   "cell_type": "markdown",
   "id": "05e5f08c",
   "metadata": {},
   "source": [
    "Interesting. Looks like some regularization (reduction of overfitting) can slightly improve the performance of the model, even though collinearlity really isn't an issue. "
   ]
  },
  {
   "cell_type": "markdown",
   "id": "27c58d70",
   "metadata": {},
   "source": [
    "#### KNN regression\n",
    "\n",
    "Let's also try KNN, we will also be tuning k. Curse of dimentionality is not a problem here because out data is not high dimentional, we also don't need to scale features because they are in the same scale."
   ]
  },
  {
   "cell_type": "code",
   "execution_count": 52,
   "id": "1e3aed3e",
   "metadata": {},
   "outputs": [
    {
     "data": {
      "text/plain": [
       "{'n_neighbors': 6}"
      ]
     },
     "execution_count": 52,
     "metadata": {},
     "output_type": "execute_result"
    },
    {
     "data": {
      "image/png": "[encoded data removed]",
      "text/plain": [
       "<Figure size 640x480 with 1 Axes>"
      ]
     },
     "metadata": {},
     "output_type": "display_data"
    }
   ],
   "source": [
    "from sklearn.neighbors import KNeighborsRegressor\n",
    "\n",
    "kVal = {'n_neighbors': list(range(1,63))}\n",
    "#print(kVal)\n",
    "knnGrid = GridSearchCV(estimator = KNeighborsRegressor(), param_grid = kVal, scoring = 'neg_mean_squared_error',\n",
    "                       cv = 5).fit(X_train, y_train)\n",
    "\n",
    "fig, ax = plt.subplots()\n",
    "ax.plot(list(range(1,63)),-1*knnGrid.cv_results_['mean_test_score'], label = 'knn')\n",
    "ax.set_ylabel(\"MSE\")\n",
    "ax.set_xlabel(\"k\")\n",
    "ax.legend()\n",
    "\n",
    "knnGrid.best_params_"
   ]
  },
  {
   "cell_type": "markdown",
   "id": "37403478",
   "metadata": {},
   "source": [
    "#### Decision Tree regression\n",
    "\n",
    "Let's now try to use regression trees, let's tune just ccp_alpha for now, so we have an easier plot"
   ]
  },
  {
   "cell_type": "code",
   "execution_count": 53,
   "id": "0f61874a",
   "metadata": {},
   "outputs": [
    {
     "data": {
      "text/plain": [
       "{'ccp_alpha': 0.011}"
      ]
     },
     "execution_count": 53,
     "metadata": {},
     "output_type": "execute_result"
    },
    {
     "data": {
      "image/png": "[encoded data removed]",
      "text/plain": [
       "<Figure size 640x480 with 1 Axes>"
      ]
     },
     "metadata": {},
     "output_type": "display_data"
    }
   ],
   "source": [
    "from sklearn.tree import DecisionTreeRegressor\n",
    "alphaVal = list(range(1,100))\n",
    "\n",
    "alphaVal = [(x/1000) for x in alphaVal]\n",
    "TreeParamGridAlpha = {'ccp_alpha': alphaVal}\n",
    "\n",
    "DTGrid = GridSearchCV(estimator = DecisionTreeRegressor(), param_grid = TreeParamGridAlpha, scoring = 'neg_mean_squared_error',\n",
    "                       cv = 5).fit(X_train, y_train)\n",
    "fig, ax = plt.subplots()\n",
    "ax.plot(alphaVal,-1*DTGrid.cv_results_['mean_test_score'], label = 'decision tree')\n",
    "ax.set_ylabel(\"MSE\")\n",
    "ax.set_xlabel(\"ccp_alpha\")\n",
    "ax.legend()\n",
    "#{'max_depth': list(range(1,61)), 'min_samples_split': list(range(2,61)), \n",
    "#                 'min_samples_leaf': list(range(1,61)), ccp_alpha}\n",
    "DTGrid.best_params_"
   ]
  },
  {
   "cell_type": "markdown",
   "id": "2ccf2747",
   "metadata": {},
   "source": [
    "#### GBM regression\n",
    "\n",
    "Let's also try to use gradient boost regression. I made the grid less dense because running cross validation takes forever otherwise.\n",
    "\n",
    "Random forest is not suitable for this problem because our feature space is low dimentional, plus square root of 2 just doesn't make sense anyways. "
   ]
  },
  {
   "cell_type": "code",
   "execution_count": 54,
   "id": "5a7cf302",
   "metadata": {},
   "outputs": [
    {
     "data": {
      "text/plain": [
       "{'learning_rate': 0.11, 'n_estimators': 30}"
      ]
     },
     "execution_count": 54,
     "metadata": {},
     "output_type": "execute_result"
    }
   ],
   "source": [
    "from sklearn.ensemble import GradientBoostingRegressor\n",
    "from sklearn.experimental import enable_halving_search_cv\n",
    "from sklearn.model_selection import HalvingGridSearchCV\n",
    "\n",
    "\n",
    "learningRate = list(range(1,20))\n",
    "learningRate = [(x/100) for x in learningRate]\n",
    "GBMParamGrid = {'learning_rate': learningRate, 'n_estimators': list(range(10,100, 10))}\n",
    "GBMGrid = GridSearchCV(estimator = GradientBoostingRegressor(), param_grid = GBMParamGrid, scoring = 'neg_mean_squared_error',\n",
    "                       cv = 5).fit(X_train, y_train)\n",
    "GBMGrid.best_params_"
   ]
  },
  {
   "cell_type": "markdown",
   "id": "ff2f5ec2",
   "metadata": {},
   "source": [
    "#### SVR\n",
    "\n",
    "Lets also try to do this regression using SVM, I will not use the kernel trick because the runtime for cross validation is atrocious if I use the kernel trick. "
   ]
  },
  {
   "cell_type": "code",
   "execution_count": 55,
   "id": "f6ee2063",
   "metadata": {},
   "outputs": [
    {
     "data": {
      "text/plain": [
       "{'C': 0.5}"
      ]
     },
     "execution_count": 55,
     "metadata": {},
     "output_type": "execute_result"
    }
   ],
   "source": [
    "#I decided to supress this because the runtime is just atrocious, the neural network model next will do\n",
    "\n",
    "\n",
    "from sklearn.svm import LinearSVR\n",
    "\n",
    "cVal = list(range(-5,5))\n",
    "#gammaVal = list(range(-5,5))\n",
    "#gammaVal = [(2)**(x) for x in cVal]\n",
    "cVal = [(2)**(x) for x in cVal]\n",
    "#SVRParamGrid = {'C': cVal, 'kernel': ['rbf','linear','poly'], 'gamma': gammaVal}\n",
    "SVRParamGrid = {'C': cVal}\n",
    "\n",
    "#SVRGrid = GridSearchCV(estimator = SVR(), param_grid = SVRParamGrid, scoring = 'neg_mean_squared_error',\n",
    "#                       cv = 10).fit(X_train, y_train)\n",
    "\n",
    "SVRGrid = GridSearchCV(estimator = LinearSVR(max_iter = 40000, dual = 'auto'), param_grid = SVRParamGrid, scoring = 'neg_mean_squared_error',\n",
    "                       cv = 5).fit(X_train, y_train)\n",
    "SVRGrid.best_params_\n",
    "\n"
   ]
  },
  {
   "cell_type": "code",
   "execution_count": 56,
   "id": "57a8db88",
   "metadata": {},
   "outputs": [],
   "source": [
    "#SVRGrid.best_score_"
   ]
  },
  {
   "cell_type": "markdown",
   "id": "dd0bc2fb",
   "metadata": {},
   "source": [
    "#### Neural Network\n",
    "\n",
    "##### Now for another model not covered in class: Neural Networks\n",
    "\n",
    "And just to top it all off, let's do neural networks too! This is just to flex, i can already tell this is overkill. For simplicity I am only using a single hidden layer. I will be tuning the size of that hidden layer and the activation function."
   ]
  },
  {
   "cell_type": "code",
   "execution_count": 57,
   "id": "f7058676",
   "metadata": {},
   "outputs": [
    {
     "data": {
      "text/plain": [
       "{'activation': 'identity', 'hidden_layer_sizes': [4]}"
      ]
     },
     "execution_count": 57,
     "metadata": {},
     "output_type": "execute_result"
    }
   ],
   "source": [
    "from sklearn.neural_network import MLPRegressor\n",
    "\n",
    "NNParamGrid = {'hidden_layer_sizes': [[1],[2],[3],[4]], \n",
    "                'activation': ['identity', 'logistic', 'tanh', 'relu']}\n",
    "\n",
    "NNGrid = GridSearchCV(estimator = MLPRegressor(learning_rate = 'invscaling', max_iter = 8000, early_stopping = True), param_grid = NNParamGrid, scoring = 'neg_mean_squared_error',\n",
    "                       cv = 5).fit(X_train, y_train)\n",
    "NNGrid.best_params_"
   ]
  },
  {
   "cell_type": "code",
   "execution_count": 58,
   "id": "bb12cb45",
   "metadata": {},
   "outputs": [],
   "source": [
    "#NNGrid.best_score_"
   ]
  },
  {
   "cell_type": "markdown",
   "id": "9f313931",
   "metadata": {},
   "source": [
    "### Results and Analysis"
   ]
  },
  {
   "cell_type": "markdown",
   "id": "70314e67",
   "metadata": {},
   "source": [
    "Let's now use each one of these models to predict the test set and see what our prediction error is like"
   ]
  },
  {
   "cell_type": "code",
   "execution_count": 59,
   "id": "0f33636a",
   "metadata": {},
   "outputs": [],
   "source": [
    "ridgeModel = ridgeGrid.best_estimator_\n",
    "knnModel = knnGrid.best_estimator_\n",
    "DTModel = DTGrid.best_estimator_\n",
    "GBMModel = GBMGrid.best_estimator_\n",
    "SVRModel = SVRGrid.best_estimator_\n",
    "NNModel = NNGrid.best_estimator_"
   ]
  },
  {
   "cell_type": "code",
   "execution_count": 60,
   "id": "16c67556",
   "metadata": {},
   "outputs": [],
   "source": [
    "linearPrediction = linearModel.predict(X_test)\n",
    "linearNoIntPrediction = linearModelNoInt.predict(X_test)\n",
    "gamPrediction = gam.predict(X_test, exog_smooth= X_test[['effectivenessScore', 'effectivenessScore']])"
   ]
  },
  {
   "cell_type": "code",
   "execution_count": 61,
   "id": "89b362cb",
   "metadata": {},
   "outputs": [],
   "source": [
    "#gamPrediction = gam.predict(test, exog_smooth= test[['effectivenessScore', 'effectivenessScore']])\n",
    "ridgePrediction = ridgeModel.predict(X_test)\n",
    "knnPrediction = knnModel.predict(X_test)\n",
    "DTPrediction = DTModel.predict(X_test)\n",
    "GBMPrediction = GBMModel.predict(X_test)\n",
    "SVRPrediction = SVRModel.predict(X_test)\n",
    "NNPrediction = NNModel.predict(X_test)"
   ]
  },
  {
   "cell_type": "code",
   "execution_count": 62,
   "id": "1eaa01a0",
   "metadata": {},
   "outputs": [],
   "source": [
    "def predictionErrors(errorFuction, linearPrediction, linearNoIntPrediction, gamPrediction, ridgePrediction, knnPrediction, \n",
    "                    DTPrediction, GBMPrediction, SVRPrediction, NNPrediction):\n",
    "    linearPredictionError = errorFuction(linearPrediction)\n",
    "    linearNoIntPredictionError = errorFuction(linearNoIntPrediction)\n",
    "    gamPredictionError = errorFuction(gamPrediction)\n",
    "    ridgePredictionError = errorFuction(ridgePrediction)\n",
    "    knnPredictionError = errorFuction(knnPrediction)\n",
    "    DTPredictionError = errorFuction(DTPrediction)\n",
    "    GBMPredictionError = errorFuction(GBMPrediction)\n",
    "    SVRPredictionError = errorFuction(SVRPrediction)\n",
    "    NNPredictionError = errorFuction(NNPrediction)\n",
    "    return(linearPredictionError, linearNoIntPredictionError, gamPredictionError, ridgePredictionError, knnPredictionError, \n",
    "          DTPredictionError, GBMPredictionError, SVRPredictionError, NNPredictionError)"
   ]
  },
  {
   "cell_type": "code",
   "execution_count": 63,
   "id": "4e62fbea",
   "metadata": {},
   "outputs": [],
   "source": [
    "def addlabels(x,y):\n",
    "    for i in range(len(x)):\n",
    "        plt.text(i, y[i]/2, round(y[i],3), ha = 'center')"
   ]
  },
  {
   "cell_type": "markdown",
   "id": "738ce45b",
   "metadata": {},
   "source": [
    "#### Model evaluation using MSE"
   ]
  },
  {
   "cell_type": "code",
   "execution_count": 64,
   "id": "9bee11c0",
   "metadata": {},
   "outputs": [],
   "source": [
    "from sklearn.metrics import mean_squared_error\n",
    "\n",
    "def mse(pred): \n",
    "    actual, pred = np.array(y_test), np.array(pred)\n",
    "    return mean_squared_error(actual, pred)"
   ]
  },
  {
   "cell_type": "code",
   "execution_count": 65,
   "id": "610a88be",
   "metadata": {},
   "outputs": [],
   "source": [
    "MSEs = predictionErrors(mse, linearPrediction, linearNoIntPrediction, gamPrediction, ridgePrediction, knnPrediction, \n",
    "                DTPrediction, GBMPrediction, SVRPrediction, NNPrediction)"
   ]
  },
  {
   "cell_type": "code",
   "execution_count": 66,
   "id": "427a4159",
   "metadata": {},
   "outputs": [],
   "source": [
    "linearPredictionMSE = mse(linearPrediction)\n",
    "linearNoIntPredictionMSE = mse(linearNoIntPrediction)\n",
    "gamPredictionMSE = mse(gamPrediction)\n",
    "ridgePredictionMSE = mse(ridgePrediction)\n",
    "knnPredictionMSE = mse(knnPrediction)\n",
    "DTPredictionMSE = mse(DTPrediction)\n",
    "GBMPredictionMSE = mse(GBMPrediction)\n",
    "SVRPredictionMSE = mse(SVRPrediction)\n",
    "NNPredictionMSE = mse(NNPrediction)"
   ]
  },
  {
   "cell_type": "code",
   "execution_count": 67,
   "id": "efa5a8c7",
   "metadata": {},
   "outputs": [
    {
     "name": "stdout",
     "output_type": "stream",
     "text": [
      "(1.849838552512279, 1.973411864036024, 1.8030875221343678, 1.9727475402204442, 1.9894114886541556, 2.5050504875401503, 2.0842461409073048, 2.0424947844688464, 2.2940860609295646)\n"
     ]
    }
   ],
   "source": [
    "print(MSEs)"
   ]
  },
  {
   "cell_type": "code",
   "execution_count": 68,
   "id": "39df2c20",
   "metadata": {},
   "outputs": [
    {
     "data": {
      "text/plain": [
       "Text(0.5, 1.0, 'MSE for each model')"
      ]
     },
     "execution_count": 68,
     "metadata": {},
     "output_type": "execute_result"
    },
    {
     "data": {
      "image/png": "[encoded data removed]",
      "text/plain": [
       "<Figure size 640x480 with 1 Axes>"
      ]
     },
     "metadata": {},
     "output_type": "display_data"
    }
   ],
   "source": [
    "errors = MSEs\n",
    "Names = ['LM w/ I', 'LM w/o I', 'GAM', 'ridge', 'knn', 'DT', 'GBM', 'SVR', 'NN']\n",
    "\n",
    "fig, ax = plt.subplots()\n",
    "ax.bar(Names, errors)\n",
    "addlabels(Names, errors)\n",
    "ax.set_ylabel('MSE')\n",
    "ax.set_title('MSE for each model')"
   ]
  },
  {
   "cell_type": "markdown",
   "id": "622d02d0",
   "metadata": {},
   "source": [
    "So it looks like the generalized additive model works best according to this metric, let's try another metric."
   ]
  },
  {
   "cell_type": "markdown",
   "id": "5394c886",
   "metadata": {},
   "source": [
    "#### Model evaluation using MAE"
   ]
  },
  {
   "cell_type": "code",
   "execution_count": 69,
   "id": "9d92607a",
   "metadata": {},
   "outputs": [],
   "source": [
    "from sklearn.metrics import mean_absolute_error\n",
    "\n",
    "def mae(pred): \n",
    "    actual, pred = np.array(y_test), np.array(pred)\n",
    "    return mean_absolute_error(actual, pred)"
   ]
  },
  {
   "cell_type": "code",
   "execution_count": 70,
   "id": "a8671e8e",
   "metadata": {},
   "outputs": [],
   "source": [
    "MAEs = predictionErrors(mae, linearPrediction, linearNoIntPrediction, gamPrediction, ridgePrediction, knnPrediction, \n",
    "                DTPrediction, GBMPrediction, SVRPrediction, NNPrediction)"
   ]
  },
  {
   "cell_type": "code",
   "execution_count": 71,
   "id": "86c1f7bb",
   "metadata": {},
   "outputs": [
    {
     "name": "stdout",
     "output_type": "stream",
     "text": [
      "(0.9015107333474756, 0.9136407594524861, 1.0202323387867869, 0.9141988981347154, 0.9082169967586483, 1.0426311839023479, 0.9282400956056871, 0.9232267675733795, 0.9850967921463462)\n"
     ]
    }
   ],
   "source": [
    "print(MAEs)"
   ]
  },
  {
   "cell_type": "code",
   "execution_count": 72,
   "id": "496cc63e",
   "metadata": {},
   "outputs": [
    {
     "data": {
      "text/plain": [
       "Text(0.5, 1.0, 'MAE for each model')"
      ]
     },
     "execution_count": 72,
     "metadata": {},
     "output_type": "execute_result"
    },
    {
     "data": {
      "image/png": "[encoded data removed]",
      "text/plain": [
       "<Figure size 640x480 with 1 Axes>"
      ]
     },
     "metadata": {},
     "output_type": "display_data"
    }
   ],
   "source": [
    "errors = MAEs\n",
    "Names = ['LM w/ I', 'LM w/o I', 'GAM', 'ridge', 'knn', 'DT', 'GBM', 'SVR', 'NN']\n",
    "\n",
    "fig, ax = plt.subplots()\n",
    "ax.bar(Names, errors)\n",
    "addlabels(Names, errors)\n",
    "ax.set_ylabel('MAE')\n",
    "ax.set_title('MAE for each model')"
   ]
  },
  {
   "cell_type": "markdown",
   "id": "9f82a5b4",
   "metadata": {},
   "source": [
    "According to the mean absolute error metric the linear model with the interaction is the best. "
   ]
  },
  {
   "cell_type": "markdown",
   "id": "8748dafc",
   "metadata": {},
   "source": [
    "#### Model evaluation using RMSE"
   ]
  },
  {
   "cell_type": "code",
   "execution_count": 73,
   "id": "b1b6e17c",
   "metadata": {},
   "outputs": [],
   "source": [
    "#from sklearn.metrics import root_mean_squared_error\n",
    "\n",
    "def rmse(pred): \n",
    "    actual, pred = np.array(y_test), np.array(pred)\n",
    "    return np.sqrt(mean_squared_error(actual, pred))"
   ]
  },
  {
   "cell_type": "code",
   "execution_count": 74,
   "id": "5c6ebbe4",
   "metadata": {},
   "outputs": [],
   "source": [
    "RMSEs = predictionErrors(rmse, linearPrediction, linearNoIntPrediction, gamPrediction, ridgePrediction, knnPrediction, \n",
    "                DTPrediction, GBMPrediction, SVRPrediction, NNPrediction)"
   ]
  },
  {
   "cell_type": "code",
   "execution_count": 75,
   "id": "d0984571",
   "metadata": {},
   "outputs": [
    {
     "name": "stdout",
     "output_type": "stream",
     "text": [
      "(1.3600877003018148, 1.4047817852022513, 1.342790945059717, 1.4045453144062117, 1.410464990226328, 1.582735128674457, 1.4436918441645727, 1.4291587681111033, 1.51462406587561)\n"
     ]
    }
   ],
   "source": [
    "print(RMSEs)"
   ]
  },
  {
   "cell_type": "code",
   "execution_count": 76,
   "id": "7af021f8",
   "metadata": {},
   "outputs": [
    {
     "data": {
      "text/plain": [
       "Text(0.5, 1.0, 'RMSE for each model')"
      ]
     },
     "execution_count": 76,
     "metadata": {},
     "output_type": "execute_result"
    },
    {
     "data": {
      "image/png": "[encoded data removed]",
      "text/plain": [
       "<Figure size 640x480 with 1 Axes>"
      ]
     },
     "metadata": {},
     "output_type": "display_data"
    }
   ],
   "source": [
    "errors = RMSEs\n",
    "Names = ['LM w/ I', 'LM w/o I', 'GAM', 'ridge', 'knn', 'DT', 'GBM', 'SVR', 'NN']\n",
    "\n",
    "fig, ax = plt.subplots()\n",
    "ax.bar(Names, errors)\n",
    "addlabels(Names, errors)\n",
    "ax.set_ylabel('RMSE')\n",
    "ax.set_title('RMSE for each model')"
   ]
  },
  {
   "cell_type": "markdown",
   "id": "76f290a6",
   "metadata": {},
   "source": [
    "What we see is that the GAM seems to fit the outliers well (evidenced by low MSE and RMSE) while the linear model with interaction seems to have lower absolute error. \n",
    "\n",
    "So depending on the severity of having large prediction errors as compared to smaller prediction errors we could either go with the linear model with interaction or go with the generalized additive model. "
   ]
  },
  {
   "cell_type": "markdown",
   "id": "0981a7cf",
   "metadata": {},
   "source": [
    "Let's investigate why thet is the case:"
   ]
  },
  {
   "cell_type": "code",
   "execution_count": 77,
   "id": "2812bea2",
   "metadata": {},
   "outputs": [
    {
     "data": {
      "text/plain": [
       "Text(0.5, 1.0, 'Residual vs fitted plot, OLS')"
      ]
     },
     "execution_count": 77,
     "metadata": {},
     "output_type": "execute_result"
    },
    {
     "data": {
      "image/png": "[encoded data removed]",
      "text/plain": [
       "<Figure size 640x480 with 1 Axes>"
      ]
     },
     "metadata": {},
     "output_type": "display_data"
    }
   ],
   "source": [
    "residuals = (linearModel.predict(train) - y_train)\n",
    "fig, ax = plt.subplots()\n",
    "ax.scatter(y_train,residuals)\n",
    "ax.set_ylabel('residual')\n",
    "ax.set_xlabel('fitted')\n",
    "ax.set_title('Residual vs fitted plot, OLS')\n"
   ]
  },
  {
   "cell_type": "code",
   "execution_count": 78,
   "id": "afc20f6e",
   "metadata": {},
   "outputs": [
    {
     "data": {
      "text/plain": [
       "Text(0.5, 1.0, 'Residual vs fitted plot, GAM')"
      ]
     },
     "execution_count": 78,
     "metadata": {},
     "output_type": "execute_result"
    },
    {
     "data": {
      "image/png": "[encoded data removed]",
      "text/plain": [
       "<Figure size 640x480 with 1 Axes>"
      ]
     },
     "metadata": {},
     "output_type": "display_data"
    }
   ],
   "source": [
    "residuals = (gam.predict(train, exog_smooth= train[['effectivenessScore', 'effectivenessScore']]) - y_train)\n",
    "\n",
    "fig, ax = plt.subplots()\n",
    "ax.scatter(y_train,residuals)\n",
    "ax.set_ylabel('residual')\n",
    "ax.set_xlabel('fitted')\n",
    "ax.set_title('Residual vs fitted plot, GAM')"
   ]
  },
  {
   "cell_type": "markdown",
   "id": "4670f824",
   "metadata": {},
   "source": [
    "We do see that the GAM does seem to give smaller residuals than the linear model in general. \n",
    "\n",
    "I would say that these plots are both rather problematic. The plots do not seem to show random scatter around the residual = 0 line. \n",
    "\n",
    "Let's see if KNN did better:"
   ]
  },
  {
   "cell_type": "code",
   "execution_count": 79,
   "id": "49c46279",
   "metadata": {},
   "outputs": [
    {
     "data": {
      "text/plain": [
       "Text(0.5, 1.0, 'Residual vs fitted plot, KNN')"
      ]
     },
     "execution_count": 79,
     "metadata": {},
     "output_type": "execute_result"
    },
    {
     "data": {
      "image/png": "[encoded data removed]",
      "text/plain": [
       "<Figure size 640x480 with 1 Axes>"
      ]
     },
     "metadata": {},
     "output_type": "display_data"
    }
   ],
   "source": [
    "residuals = (knnModel.predict(X_train) - y_train)\n",
    "\n",
    "fig, ax = plt.subplots()\n",
    "ax.scatter(y_train,residuals)\n",
    "ax.set_ylabel('residual')\n",
    "ax.set_xlabel('fitted')\n",
    "ax.set_title('Residual vs fitted plot, KNN')"
   ]
  },
  {
   "cell_type": "markdown",
   "id": "db9557f8",
   "metadata": {},
   "source": [
    "a bit better but still a bit of a structure we can see"
   ]
  },
  {
   "cell_type": "markdown",
   "id": "2a7270fe",
   "metadata": {},
   "source": [
    "Here is another idea then. can we transform our features? This will reduce interpretability slightly but that should not be important. For this part I will only fit linear regression models. "
   ]
  },
  {
   "cell_type": "code",
   "execution_count": 80,
   "id": "f47c77f5",
   "metadata": {},
   "outputs": [
    {
     "name": "stdout",
     "output_type": "stream",
     "text": [
      "                rating  effectivenessScore  sideEffectsScore\n",
      "urlDrugName                                                 \n",
      "abilify      28.890625           13.140625          6.250000\n",
      "acanya       81.000000           25.000000          4.000000\n",
      "accolate      1.000000            1.000000          1.000000\n",
      "accupril     81.000000           16.000000          1.000000\n",
      "accutane     59.710744           20.455062          8.200413\n"
     ]
    },
    {
     "data": {
      "text/plain": [
       "<seaborn.axisgrid.PairGrid at 0x1eda8664250>"
      ]
     },
     "execution_count": 80,
     "metadata": {},
     "output_type": "execute_result"
    },
    {
     "data": {
      "image/png": "[encoded data removed]",
      "text/plain": [
       "<Figure size 750x750 with 12 Axes>"
      ]
     },
     "metadata": {},
     "output_type": "display_data"
    }
   ],
   "source": [
    "square_table2 = np.square(table2)\n",
    "print(square_table2.head())\n",
    "sb.pairplot(square_table2)"
   ]
  },
  {
   "cell_type": "code",
   "execution_count": 81,
   "id": "c1e632fb",
   "metadata": {},
   "outputs": [
    {
     "data": {
      "text/html": [
       "<table class=\"simpletable\">\n",
       "<caption>OLS Regression Results</caption>\n",
       "<tr>\n",
       "  <th>Dep. Variable:</th>         <td>rating</td>      <th>  R-squared:         </th> <td>   0.778</td> \n",
       "</tr>\n",
       "<tr>\n",
       "  <th>Model:</th>                   <td>OLS</td>       <th>  Adj. R-squared:    </th> <td>   0.776</td> \n",
       "</tr>\n",
       "<tr>\n",
       "  <th>Method:</th>             <td>Least Squares</td>  <th>  F-statistic:       </th> <td>   499.0</td> \n",
       "</tr>\n",
       "<tr>\n",
       "  <th>Date:</th>             <td>Wed, 05 Jun 2024</td> <th>  Prob (F-statistic):</th> <td>2.67e-139</td>\n",
       "</tr>\n",
       "<tr>\n",
       "  <th>Time:</th>                 <td>09:30:12</td>     <th>  Log-Likelihood:    </th> <td> -1697.6</td> \n",
       "</tr>\n",
       "<tr>\n",
       "  <th>No. Observations:</th>      <td>   432</td>      <th>  AIC:               </th> <td>   3403.</td> \n",
       "</tr>\n",
       "<tr>\n",
       "  <th>Df Residuals:</th>          <td>   428</td>      <th>  BIC:               </th> <td>   3419.</td> \n",
       "</tr>\n",
       "<tr>\n",
       "  <th>Df Model:</th>              <td>     3</td>      <th>                     </th>     <td> </td>    \n",
       "</tr>\n",
       "<tr>\n",
       "  <th>Covariance Type:</th>      <td>nonrobust</td>    <th>                     </th>     <td> </td>    \n",
       "</tr>\n",
       "</table>\n",
       "<table class=\"simpletable\">\n",
       "<tr>\n",
       "                   <td></td>                      <th>coef</th>     <th>std err</th>      <th>t</th>      <th>P>|t|</th>  <th>[0.025</th>    <th>0.975]</th>  \n",
       "</tr>\n",
       "<tr>\n",
       "  <th>Intercept</th>                           <td>   10.5950</td> <td>    2.630</td> <td>    4.029</td> <td> 0.000</td> <td>    5.426</td> <td>   15.764</td>\n",
       "</tr>\n",
       "<tr>\n",
       "  <th>effectivenessScore</th>                  <td>    3.5739</td> <td>    0.146</td> <td>   24.553</td> <td> 0.000</td> <td>    3.288</td> <td>    3.860</td>\n",
       "</tr>\n",
       "<tr>\n",
       "  <th>sideEffectsScore</th>                    <td>   -0.6346</td> <td>    0.278</td> <td>   -2.287</td> <td> 0.023</td> <td>   -1.180</td> <td>   -0.089</td>\n",
       "</tr>\n",
       "<tr>\n",
       "  <th>effectivenessScore:sideEffectsScore</th> <td>   -0.1228</td> <td>    0.019</td> <td>   -6.605</td> <td> 0.000</td> <td>   -0.159</td> <td>   -0.086</td>\n",
       "</tr>\n",
       "</table>\n",
       "<table class=\"simpletable\">\n",
       "<tr>\n",
       "  <th>Omnibus:</th>       <td>51.928</td> <th>  Durbin-Watson:     </th> <td>   2.196</td>\n",
       "</tr>\n",
       "<tr>\n",
       "  <th>Prob(Omnibus):</th> <td> 0.000</td> <th>  Jarque-Bera (JB):  </th> <td> 130.598</td>\n",
       "</tr>\n",
       "<tr>\n",
       "  <th>Skew:</th>          <td> 0.602</td> <th>  Prob(JB):          </th> <td>4.38e-29</td>\n",
       "</tr>\n",
       "<tr>\n",
       "  <th>Kurtosis:</th>      <td> 5.410</td> <th>  Cond. No.          </th> <td>    436.</td>\n",
       "</tr>\n",
       "</table><br/><br/>Notes:<br/>[1] Standard Errors assume that the covariance matrix of the errors is correctly specified."
      ],
      "text/latex": [
       "\\begin{center}\n",
       "\\begin{tabular}{lclc}\n",
       "\\toprule\n",
       "\\textbf{Dep. Variable:}                      &      rating      & \\textbf{  R-squared:         } &     0.778   \\\\\n",
       "\\textbf{Model:}                              &       OLS        & \\textbf{  Adj. R-squared:    } &     0.776   \\\\\n",
       "\\textbf{Method:}                             &  Least Squares   & \\textbf{  F-statistic:       } &     499.0   \\\\\n",
       "\\textbf{Date:}                               & Wed, 05 Jun 2024 & \\textbf{  Prob (F-statistic):} & 2.67e-139   \\\\\n",
       "\\textbf{Time:}                               &     09:30:12     & \\textbf{  Log-Likelihood:    } &   -1697.6   \\\\\n",
       "\\textbf{No. Observations:}                   &         432      & \\textbf{  AIC:               } &     3403.   \\\\\n",
       "\\textbf{Df Residuals:}                       &         428      & \\textbf{  BIC:               } &     3419.   \\\\\n",
       "\\textbf{Df Model:}                           &           3      & \\textbf{                     } &             \\\\\n",
       "\\textbf{Covariance Type:}                    &    nonrobust     & \\textbf{                     } &             \\\\\n",
       "\\bottomrule\n",
       "\\end{tabular}\n",
       "\\begin{tabular}{lcccccc}\n",
       "                                             & \\textbf{coef} & \\textbf{std err} & \\textbf{t} & \\textbf{P$> |$t$|$} & \\textbf{[0.025} & \\textbf{0.975]}  \\\\\n",
       "\\midrule\n",
       "\\textbf{Intercept}                           &      10.5950  &        2.630     &     4.029  &         0.000        &        5.426    &       15.764     \\\\\n",
       "\\textbf{effectivenessScore}                  &       3.5739  &        0.146     &    24.553  &         0.000        &        3.288    &        3.860     \\\\\n",
       "\\textbf{sideEffectsScore}                    &      -0.6346  &        0.278     &    -2.287  &         0.023        &       -1.180    &       -0.089     \\\\\n",
       "\\textbf{effectivenessScore:sideEffectsScore} &      -0.1228  &        0.019     &    -6.605  &         0.000        &       -0.159    &       -0.086     \\\\\n",
       "\\bottomrule\n",
       "\\end{tabular}\n",
       "\\begin{tabular}{lclc}\n",
       "\\textbf{Omnibus:}       & 51.928 & \\textbf{  Durbin-Watson:     } &    2.196  \\\\\n",
       "\\textbf{Prob(Omnibus):} &  0.000 & \\textbf{  Jarque-Bera (JB):  } &  130.598  \\\\\n",
       "\\textbf{Skew:}          &  0.602 & \\textbf{  Prob(JB):          } & 4.38e-29  \\\\\n",
       "\\textbf{Kurtosis:}      &  5.410 & \\textbf{  Cond. No.          } &     436.  \\\\\n",
       "\\bottomrule\n",
       "\\end{tabular}\n",
       "%\\caption{OLS Regression Results}\n",
       "\\end{center}\n",
       "\n",
       "Notes: \\newline\n",
       " [1] Standard Errors assume that the covariance matrix of the errors is correctly specified."
      ],
      "text/plain": [
       "<class 'statsmodels.iolib.summary.Summary'>\n",
       "\"\"\"\n",
       "                            OLS Regression Results                            \n",
       "==============================================================================\n",
       "Dep. Variable:                 rating   R-squared:                       0.778\n",
       "Model:                            OLS   Adj. R-squared:                  0.776\n",
       "Method:                 Least Squares   F-statistic:                     499.0\n",
       "Date:                Wed, 05 Jun 2024   Prob (F-statistic):          2.67e-139\n",
       "Time:                        09:30:12   Log-Likelihood:                -1697.6\n",
       "No. Observations:                 432   AIC:                             3403.\n",
       "Df Residuals:                     428   BIC:                             3419.\n",
       "Df Model:                           3                                         \n",
       "Covariance Type:            nonrobust                                         \n",
       "=======================================================================================================\n",
       "                                          coef    std err          t      P>|t|      [0.025      0.975]\n",
       "-------------------------------------------------------------------------------------------------------\n",
       "Intercept                              10.5950      2.630      4.029      0.000       5.426      15.764\n",
       "effectivenessScore                      3.5739      0.146     24.553      0.000       3.288       3.860\n",
       "sideEffectsScore                       -0.6346      0.278     -2.287      0.023      -1.180      -0.089\n",
       "effectivenessScore:sideEffectsScore    -0.1228      0.019     -6.605      0.000      -0.159      -0.086\n",
       "==============================================================================\n",
       "Omnibus:                       51.928   Durbin-Watson:                   2.196\n",
       "Prob(Omnibus):                  0.000   Jarque-Bera (JB):              130.598\n",
       "Skew:                           0.602   Prob(JB):                     4.38e-29\n",
       "Kurtosis:                       5.410   Cond. No.                         436.\n",
       "==============================================================================\n",
       "\n",
       "Notes:\n",
       "[1] Standard Errors assume that the covariance matrix of the errors is correctly specified.\n",
       "\"\"\""
      ]
     },
     "execution_count": 81,
     "metadata": {},
     "output_type": "execute_result"
    }
   ],
   "source": [
    "square_train, square_test = train_test_split(table2, test_size=0.2, train_size = 0.8, random_state=25)\n",
    "square_train = np.square(square_train)\n",
    "squareLinearModel = smf.ols('rating ~ effectivenessScore * sideEffectsScore', data=(square_train)).fit()\n",
    "squareLinearModel.summary()"
   ]
  },
  {
   "cell_type": "code",
   "execution_count": 82,
   "id": "0bd0cfed",
   "metadata": {},
   "outputs": [],
   "source": [
    "squareLinearModelPrediction = squareLinearModel.predict(square_train)"
   ]
  },
  {
   "cell_type": "code",
   "execution_count": 83,
   "id": "35dbab90",
   "metadata": {},
   "outputs": [],
   "source": [
    "residual = squareLinearModelPrediction - square_train['rating']"
   ]
  },
  {
   "cell_type": "code",
   "execution_count": 84,
   "id": "ff0bbd22",
   "metadata": {},
   "outputs": [
    {
     "data": {
      "text/plain": [
       "Text(0.5, 1.0, 'Residual vs fitted plot, transformed features linear regression')"
      ]
     },
     "execution_count": 84,
     "metadata": {},
     "output_type": "execute_result"
    },
    {
     "data": {
      "image/png": "[encoded data removed]",
      "text/plain": [
       "<Figure size 640x480 with 1 Axes>"
      ]
     },
     "metadata": {},
     "output_type": "display_data"
    }
   ],
   "source": [
    "fig, ax = plt.subplots()\n",
    "ax.scatter(square_train['rating'],residual)\n",
    "ax.set_ylabel('residual')\n",
    "ax.set_xlabel('fitted')\n",
    "ax.set_title('Residual vs fitted plot, transformed features linear regression')"
   ]
  },
  {
   "cell_type": "code",
   "execution_count": 85,
   "id": "481eb53e",
   "metadata": {},
   "outputs": [],
   "source": [
    "#from sklearn.metrics import r2_score\n",
    "squareLinearModelPrediction = squareLinearModel.predict(np.square(square_test))\n",
    "squareLinearModelPrediction[squareLinearModelPrediction < 0] = 0\n",
    "#squareLinearModelPrediction.unique()\n",
    "squareLinearModelPrediction = np.sqrt(squareLinearModelPrediction)"
   ]
  },
  {
   "cell_type": "markdown",
   "id": "68148fb7",
   "metadata": {},
   "source": [
    "For the transformed model. To interpret it we have to take the square root of the prediction to get our actually predicted rating. I have zeroed out predictions that are negative so that we can actually do the transformation."
   ]
  },
  {
   "cell_type": "code",
   "execution_count": 86,
   "id": "ecef3113",
   "metadata": {},
   "outputs": [
    {
     "name": "stdout",
     "output_type": "stream",
     "text": [
      "1.8240206699679544\n",
      "1.849838552512279\n"
     ]
    }
   ],
   "source": [
    "print(mean_squared_error(square_test['rating'], squareLinearModelPrediction))\n",
    "print(mean_squared_error(test['rating'], linearPrediction))"
   ]
  },
  {
   "cell_type": "code",
   "execution_count": 87,
   "id": "75233b39",
   "metadata": {},
   "outputs": [
    {
     "name": "stdout",
     "output_type": "stream",
     "text": [
      "0.9230276522223724\n",
      "0.9015107333474756\n"
     ]
    }
   ],
   "source": [
    "print(mean_absolute_error(square_test['rating'], squareLinearModelPrediction))\n",
    "print(mean_absolute_error(test['rating'], linearPrediction))"
   ]
  },
  {
   "cell_type": "markdown",
   "id": "98dcbb51",
   "metadata": {},
   "source": [
    "Looks like our situation here is quite similar to the GAM case earlier. Recall that the GAM had lower MSE and RMSE than the linear model with interaction but had higher MAE. Looks like we have a similar situation here. "
   ]
  },
  {
   "cell_type": "markdown",
   "id": "b382c63b",
   "metadata": {},
   "source": [
    "#### summary"
   ]
  },
  {
   "cell_type": "markdown",
   "id": "4f6fe95e",
   "metadata": {},
   "source": [
    "It looks like that both the GAM and our transformed linear models have higher MAE than just the regular linear model but have lower MSE. This is a rather interesting development. So depending on what we think of large deviations from the prediction as compared to small deviations from the prediction, we could go with either camp. \n",
    "\n",
    "The Neural network model seems to be the most unstable during hyperparameter tuning, potentially suggesting overfitting. The other models tend to give rather similar prediction errors between iterations. "
   ]
  },
  {
   "cell_type": "markdown",
   "id": "d1ef2785",
   "metadata": {},
   "source": [
    "### Discussions"
   ]
  },
  {
   "cell_type": "markdown",
   "id": "1b1cd5ea",
   "metadata": {},
   "source": [
    "##### My takeaways are as follows:\n",
    "\n",
    "The model of choice based on occam's razor would be the linear model with an interaction term, but if we only really care about prediction accuracy we can also use the GAM. The more complex models do not really perform better, so sometimes simpler is better. \n",
    "\n",
    "The ridge regression model in sklearn does not seem to allow an interaction term. We did see very slightly reduced prediction errors compared to OLS without an interaction term. \n",
    "\n",
    "##### Things that didn't work:\n",
    "\n",
    "I wasn't able to include a condition type feature into the final dataset. The reason is that when I looked at the unique values inside it there was close to 2000 different values, and a lot of the entires have typos and stuff, so it would not be possible to use this variable in the model for now. I do hope I can include it at some point doen the line. \n",
    "\n",
    "##### Ways to improve:\n",
    "\n",
    "I believe that if I was able to classify the condition into groups (e.g. pain, curculatory, etc.) we could also tease apart if the type of condition a drug treats affects the rating. However, that is probably a project all by itself, potentially an unsupervised learning project. So I may revisit this project down the line. \n",
    "\n",
    "Another way that I think we can improve is by weighting the importance of each point in the estimation procedure when fitting the model by the number of reviews that made up the data point. I could think of a few ways to implement this. "
   ]
  },
  {
   "cell_type": "markdown",
   "id": "97576199",
   "metadata": {},
   "source": [
    "# That is all, thank you for reading!"
   ]
  },
  {
   "cell_type": "markdown",
   "id": "a72556a5",
   "metadata": {},
   "source": [
    "# Below are stuff i am not including in the final project. You Do not need to grade the stuff below."
   ]
  },
  {
   "cell_type": "markdown",
   "id": "5fb0af98",
   "metadata": {},
   "source": [
    "#### Data understanding (table 1)"
   ]
  },
  {
   "cell_type": "markdown",
   "id": "94b36911",
   "metadata": {},
   "source": [
    "Lets start by figuring out what we are dealing with for table 1:"
   ]
  },
  {
   "cell_type": "code",
   "execution_count": 88,
   "id": "bb1de56f",
   "metadata": {},
   "outputs": [
    {
     "data": {
      "text/html": [
       "<div>\n",
       "<style scoped>\n",
       "    .dataframe tbody tr th:only-of-type {\n",
       "        vertical-align: middle;\n",
       "    }\n",
       "\n",
       "    .dataframe tbody tr th {\n",
       "        vertical-align: top;\n",
       "    }\n",
       "\n",
       "    .dataframe thead th {\n",
       "        text-align: right;\n",
       "    }\n",
       "</style>\n",
       "<table border=\"1\" class=\"dataframe\">\n",
       "  <thead>\n",
       "    <tr style=\"text-align: right;\">\n",
       "      <th></th>\n",
       "      <th>Unnamed: 0</th>\n",
       "      <th>drugName</th>\n",
       "      <th>condition</th>\n",
       "      <th>review</th>\n",
       "      <th>rating</th>\n",
       "      <th>date</th>\n",
       "      <th>usefulCount</th>\n",
       "    </tr>\n",
       "  </thead>\n",
       "  <tbody>\n",
       "    <tr>\n",
       "      <th>0</th>\n",
       "      <td>206461</td>\n",
       "      <td>Valsartan</td>\n",
       "      <td>Left Ventricular Dysfunction</td>\n",
       "      <td>\"It has no side effect, I take it in combinati...</td>\n",
       "      <td>9.0</td>\n",
       "      <td>May 20, 2012</td>\n",
       "      <td>27</td>\n",
       "    </tr>\n",
       "    <tr>\n",
       "      <th>1</th>\n",
       "      <td>95260</td>\n",
       "      <td>Guanfacine</td>\n",
       "      <td>ADHD</td>\n",
       "      <td>\"My son is halfway through his fourth week of ...</td>\n",
       "      <td>8.0</td>\n",
       "      <td>April 27, 2010</td>\n",
       "      <td>192</td>\n",
       "    </tr>\n",
       "    <tr>\n",
       "      <th>2</th>\n",
       "      <td>92703</td>\n",
       "      <td>Lybrel</td>\n",
       "      <td>Birth Control</td>\n",
       "      <td>\"I used to take another oral contraceptive, wh...</td>\n",
       "      <td>5.0</td>\n",
       "      <td>December 14, 2009</td>\n",
       "      <td>17</td>\n",
       "    </tr>\n",
       "    <tr>\n",
       "      <th>3</th>\n",
       "      <td>138000</td>\n",
       "      <td>Ortho Evra</td>\n",
       "      <td>Birth Control</td>\n",
       "      <td>\"This is my first time using any form of birth...</td>\n",
       "      <td>8.0</td>\n",
       "      <td>November 3, 2015</td>\n",
       "      <td>10</td>\n",
       "    </tr>\n",
       "    <tr>\n",
       "      <th>4</th>\n",
       "      <td>35696</td>\n",
       "      <td>Buprenorphine / naloxone</td>\n",
       "      <td>Opiate Dependence</td>\n",
       "      <td>\"Suboxone has completely turned my life around...</td>\n",
       "      <td>9.0</td>\n",
       "      <td>November 27, 2016</td>\n",
       "      <td>37</td>\n",
       "    </tr>\n",
       "  </tbody>\n",
       "</table>\n",
       "</div>"
      ],
      "text/plain": [
       "   Unnamed: 0                  drugName                     condition  \\\n",
       "0      206461                 Valsartan  Left Ventricular Dysfunction   \n",
       "1       95260                Guanfacine                          ADHD   \n",
       "2       92703                    Lybrel                 Birth Control   \n",
       "3      138000                Ortho Evra                 Birth Control   \n",
       "4       35696  Buprenorphine / naloxone             Opiate Dependence   \n",
       "\n",
       "                                              review  rating  \\\n",
       "0  \"It has no side effect, I take it in combinati...     9.0   \n",
       "1  \"My son is halfway through his fourth week of ...     8.0   \n",
       "2  \"I used to take another oral contraceptive, wh...     5.0   \n",
       "3  \"This is my first time using any form of birth...     8.0   \n",
       "4  \"Suboxone has completely turned my life around...     9.0   \n",
       "\n",
       "                date  usefulCount  \n",
       "0       May 20, 2012           27  \n",
       "1     April 27, 2010          192  \n",
       "2  December 14, 2009           17  \n",
       "3   November 3, 2015           10  \n",
       "4  November 27, 2016           37  "
      ]
     },
     "execution_count": 88,
     "metadata": {},
     "output_type": "execute_result"
    }
   ],
   "source": [
    "train1_raw.head()"
   ]
  },
  {
   "cell_type": "code",
   "execution_count": 89,
   "id": "9ce2dee9",
   "metadata": {},
   "outputs": [
    {
     "name": "stdout",
     "output_type": "stream",
     "text": [
      "Unnamed: 0       int64\n",
      "drugName        object\n",
      "condition       object\n",
      "review          object\n",
      "rating         float64\n",
      "date            object\n",
      "usefulCount      int64\n",
      "dtype: object\n"
     ]
    }
   ],
   "source": [
    "print(train1_raw.dtypes)"
   ]
  },
  {
   "cell_type": "code",
   "execution_count": 90,
   "id": "abfb6125",
   "metadata": {},
   "outputs": [
    {
     "data": {
      "text/plain": [
       "(161297, 7)"
      ]
     },
     "execution_count": 90,
     "metadata": {},
     "output_type": "execute_result"
    }
   ],
   "source": [
    "train1_raw.shape"
   ]
  },
  {
   "cell_type": "markdown",
   "id": "11dafc95",
   "metadata": {},
   "source": [
    "Now let's look at the test set, I will use this to do final model selection"
   ]
  },
  {
   "cell_type": "code",
   "execution_count": 91,
   "id": "31788aee",
   "metadata": {},
   "outputs": [
    {
     "name": "stdout",
     "output_type": "stream",
     "text": [
      "Unnamed: 0       int64\n",
      "drugName        object\n",
      "condition       object\n",
      "review          object\n",
      "rating         float64\n",
      "date            object\n",
      "usefulCount      int64\n",
      "dtype: object\n"
     ]
    }
   ],
   "source": [
    "print(test1_raw.dtypes)"
   ]
  },
  {
   "cell_type": "code",
   "execution_count": 92,
   "id": "7270c90f",
   "metadata": {},
   "outputs": [
    {
     "data": {
      "text/plain": [
       "(53766, 7)"
      ]
     },
     "execution_count": 92,
     "metadata": {},
     "output_type": "execute_result"
    }
   ],
   "source": [
    "test1_raw.shape"
   ]
  },
  {
   "cell_type": "markdown",
   "id": "8e94dc6e",
   "metadata": {},
   "source": [
    "Okay. For the first dataset we see that the train set contains 161297 total reviews with 7 features. \n",
    "For the first test set we have 53766 reviews with 7 features. \n",
    "\n",
    "For the analysis i wish to conduct I will have to aggregate the reviews for each singular drug into a single general review. As a result looks like I will have to recreate the training and testing sets after i merge everyting on "
   ]
  }
 ],
 "metadata": {
  "kernelspec": {
   "display_name": "Python 3 (ipykernel)",
   "language": "python",
   "name": "python3"
  },
  "language_info": {
   "codemirror_mode": {
    "name": "ipython",
    "version": 3
   },
   "file_extension": ".py",
   "mimetype": "text/x-python",
   "name": "python",
   "nbconvert_exporter": "python",
   "pygments_lexer": "ipython3",
   "version": "3.11.4"
  }
 },
 "nbformat": 4,
 "nbformat_minor": 5
}
